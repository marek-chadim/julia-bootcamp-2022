{
 "cells": [
  {
   "cell_type": "markdown",
   "id": "88caa9d6",
   "metadata": {
    "slideshow": {
     "slide_type": "slide"
    }
   },
   "source": [
    "# Julia for Economists\n",
    "\n",
    "## Code for the Go-Fast\n",
    "\n",
    "### Cameron Pfiffer (cpfiffer@stanford.edu)"
   ]
  },
  {
   "cell_type": "markdown",
   "id": "249b29f0",
   "metadata": {
    "slideshow": {
     "slide_type": "slide"
    }
   },
   "source": [
    "## Introduction\n",
    "\n",
    "- I'm Cameron Pfiffer, a finance PhD candidate from the University of Oregon.\n",
    "- Visiting at Stanford\n",
    "- This is the fourth in a series of workshops on Julia for economists\n",
    "- Past lectures/recordings/notes are in the GitHub repo: https://github.com/cpfiffer/julia-bootcamp-2022"
   ]
  },
  {
   "cell_type": "markdown",
   "id": "6ab412b4",
   "metadata": {
    "slideshow": {
     "slide_type": "slide"
    }
   },
   "source": [
    "## Format\n",
    "\n",
    "- The sessions are two hours now! \n",
    "- Today is all lecture! There's going to be a ton of examples for us to walk through together.\n",
    "- Ask questions when needed -- please interrupt me!\n",
    "- I assume you have Julia and some text editor available to you. If you don't have it, please download a Julia binary here: https://julialang.org/downloads/"
   ]
  },
  {
   "cell_type": "markdown",
   "id": "ae004a65",
   "metadata": {
    "slideshow": {
     "slide_type": "slide"
    }
   },
   "source": [
    "## Topic map\n",
    "\n",
    "- What the heck is a compiler?\n",
    "- Performant Julia! How do you write Julia code that (reliably) goes fast?\n",
    "- Tracking memory allocation\n",
    "- Tackling type instability\n",
    "- Closures\n",
    "- Profiling & code analysis tools (Traceur, Profile, ProfileViews, BenchmarkTools, etc.)"
   ]
  },
  {
   "cell_type": "markdown",
   "id": "cb366342",
   "metadata": {
    "slideshow": {
     "slide_type": "slide"
    }
   },
   "source": [
    "## Citations\n",
    "\n",
    "Many of these tips come from the excellent [Performance Tips](https://docs.julialang.org/en/v1/manual/performance-tips/) guide on the Julia docs."
   ]
  },
  {
   "cell_type": "markdown",
   "id": "401cd3b4",
   "metadata": {
    "slideshow": {
     "slide_type": "slide"
    }
   },
   "source": [
    "## The Julia compiler\n",
    "\n",
    "A _compiler_ is a thing that takes human-readable code and turns it into machine-readable code. Let's take a look at one way that the compiler does this by making a really simple function to increment a value by 1."
   ]
  },
  {
   "cell_type": "code",
   "execution_count": 2,
   "id": "5fc6c6a3",
   "metadata": {},
   "outputs": [
    {
     "data": {
      "text/plain": [
       "test_function (generic function with 1 method)"
      ]
     },
     "metadata": {},
     "output_type": "display_data"
    }
   ],
   "source": [
    "# Write test_function\n",
    "test_function(x) = x + 1"
   ]
  },
  {
   "cell_type": "markdown",
   "id": "4ffbae94",
   "metadata": {
    "slideshow": {
     "slide_type": "slide"
    }
   },
   "source": [
    "## The `code_typed` macro\n",
    "\n",
    "`code_typed` takes a function call and returns the Julia-typed function. This is a good way to analyze what Julia thinks about your function! More on its use later."
   ]
  },
  {
   "cell_type": "code",
   "execution_count": 3,
   "id": "9aea52fb",
   "metadata": {
    "slideshow": {
     "slide_type": ""
    }
   },
   "outputs": [
    {
     "data": {
      "text/plain": [
       "CodeInfo(\n",
       "\u001b[90m1 ─\u001b[39m %1 = Base.add_float(x, 1.0)\u001b[36m::Float64\u001b[39m\n",
       "\u001b[90m└──\u001b[39m      return %1\n",
       ") => Float64"
      ]
     },
     "metadata": {},
     "output_type": "display_data"
    }
   ],
   "source": [
    "@code_typed test_function(1.0)"
   ]
  },
  {
   "cell_type": "markdown",
   "id": "2fffea82",
   "metadata": {
    "slideshow": {
     "slide_type": "slide"
    }
   },
   "source": [
    "Julia will take this and give it to [LLVM](https://en.wikipedia.org/wiki/LLVM), which is the next level down in the compiler chain. LLVM is a language-independent compiler architecture tool that is used by many languages, not just Julia."
   ]
  },
  {
   "cell_type": "code",
   "execution_count": 4,
   "id": "422f48b9",
   "metadata": {
    "slideshow": {
     "slide_type": ""
    }
   },
   "outputs": [
    {
     "name": "stdout",
     "output_type": "stream",
     "text": [
      "\u001b[90m;  @ c:\\Users\\chadi\\OneDrive - Handelshögskolan i Stockholm\\GitHub\\julia-bootcamp-2022\\session-4\\speed-lecture.ipynb:2 within `test_function`\u001b[39m\n",
      "\u001b[90m; Function Attrs: uwtable\u001b[39m\n",
      "\u001b[95mdefine\u001b[39m \u001b[36mdouble\u001b[39m \u001b[93m@julia_test_function_1192\u001b[39m\u001b[33m(\u001b[39m\u001b[36mdouble\u001b[39m \u001b[0m%0\u001b[33m)\u001b[39m \u001b[0m#0 \u001b[33m{\u001b[39m\n",
      "\u001b[91mtop:\u001b[39m\n",
      "\u001b[90m; ┌ @ promotion.jl:422 within `+` @ float.jl:409\u001b[39m\n",
      "   \u001b[0m%1 \u001b[0m= \u001b[96m\u001b[1mfadd\u001b[22m\u001b[39m \u001b[36mdouble\u001b[39m \u001b[0m%0\u001b[0m, \u001b[33m1.000000e+00\u001b[39m\n",
      "   \u001b[96m\u001b[1mret\u001b[22m\u001b[39m \u001b[36mdouble\u001b[39m \u001b[0m%1\n",
      "\u001b[90m; └\u001b[39m\n",
      "\u001b[33m}\u001b[39m\n"
     ]
    }
   ],
   "source": [
    "@code_llvm test_function(1.0)"
   ]
  },
  {
   "cell_type": "markdown",
   "id": "13a0b3a1",
   "metadata": {
    "slideshow": {
     "slide_type": "slide"
    }
   },
   "source": [
    "Lastly, the LLVM code goes to native code, which is machine code specialized to your system architecture:"
   ]
  },
  {
   "cell_type": "code",
   "execution_count": 5,
   "id": "bdefd506",
   "metadata": {
    "slideshow": {
     "slide_type": ""
    }
   },
   "outputs": [
    {
     "name": "stdout",
     "output_type": "stream",
     "text": [
      "\t\u001b[0m.text\n",
      "\t\u001b[0m.file\t\u001b[0m\"test_function\"\n",
      "\t\u001b[0m.section\t\u001b[0m.rodata.cst8\u001b[0m,\u001b[0m\"aM\"\u001b[0m,\u001b[0m@progbits\u001b[0m,\u001b[33m8\u001b[39m\n",
      "\t\u001b[0m.p2align\t\u001b[33m3\u001b[39m                               \u001b[90m# -- Begin function julia_test_function_1235\u001b[39m\n",
      "\u001b[91m.LCPI0_0:\u001b[39m\n",
      "\t\u001b[0m.quad\t\u001b[33m0x3ff0000000000000\u001b[39m              \u001b[90m# double 1\u001b[39m\n",
      "\t\u001b[0m.text\n",
      "\t\u001b[0m.globl\t\u001b[0mjulia_test_function_1235\n",
      "\t\u001b[0m.p2align\t\u001b[33m4\u001b[39m\u001b[0m, \u001b[33m0x90\u001b[39m\n",
      "\t\u001b[0m.type\t\u001b[0mjulia_test_function_1235\u001b[0m,\u001b[0m@function\n",
      "\u001b[91mjulia_test_function_1235:\u001b[39m               \u001b[90m# @julia_test_function_1235\u001b[39m\n",
      "\u001b[90m; ┌ @ c:\\Users\\chadi\\OneDrive - Handelshögskolan i Stockholm\\GitHub\\julia-bootcamp-2022\\session-4\\speed-lecture.ipynb:2 within `test_function`\u001b[39m\n",
      "\t\u001b[0m.cfi_startproc\n",
      "\u001b[90m# %bb.0:                                # %top\u001b[39m\n",
      "\t\u001b[96m\u001b[1mpush\u001b[22m\u001b[39m\t\u001b[0mrbp\n",
      "\t\u001b[0m.cfi_def_cfa_offset \u001b[33m16\u001b[39m\n",
      "\t\u001b[0m.cfi_offset \u001b[0mrbp\u001b[0m, \u001b[33m-16\u001b[39m\n",
      "\t\u001b[96m\u001b[1mmov\u001b[22m\u001b[39m\t\u001b[0mrbp\u001b[0m, \u001b[0mrsp\n",
      "\t\u001b[0m.cfi_def_cfa_register \u001b[0mrbp\n",
      "\t\u001b[96m\u001b[1mmovabs\u001b[22m\u001b[39m\t\u001b[0mrax\u001b[0m, \u001b[95moffset\u001b[39m \u001b[0m.LCPI0_0\n",
      "\u001b[90m; │┌ @ promotion.jl:422 within `+` @ float.jl:409\u001b[39m\n",
      "\t\u001b[96m\u001b[1mvaddsd\u001b[22m\u001b[39m\t\u001b[0mxmm0\u001b[0m, \u001b[0mxmm0\u001b[0m, \u001b[95mqword\u001b[39m \u001b[95mptr\u001b[39m \u001b[33m[\u001b[39m\u001b[0mrax\u001b[33m]\u001b[39m\n",
      "\t\u001b[96m\u001b[1mpop\u001b[22m\u001b[39m\t\u001b[0mrbp\n",
      "\t\u001b[96m\u001b[1mret\u001b[22m\u001b[39m\n",
      "\u001b[91m.Lfunc_end0:\u001b[39m\n",
      "\t\u001b[0m.size\t\u001b[0mjulia_test_function_1235\u001b[0m, \u001b[0m.Lfunc_end0-julia_test_function_1235\n",
      "\t\u001b[0m.cfi_endproc\n",
      "\u001b[90m; └└\u001b[39m\n",
      "                                        \u001b[90m# -- End function\u001b[39m\n",
      "\t\u001b[0m.section\t\u001b[0m\".note.GNU-stack\"\u001b[0m,\u001b[0m\"\"\u001b[0m,\u001b[0m@progbits\n"
     ]
    }
   ],
   "source": [
    "@code_native test_function(1.0)"
   ]
  },
  {
   "cell_type": "markdown",
   "id": "d7ac1b78",
   "metadata": {
    "slideshow": {
     "slide_type": "slide"
    }
   },
   "source": [
    "## Specialization -- different inputs, different code!"
   ]
  },
  {
   "cell_type": "code",
   "execution_count": 7,
   "id": "f83ea485",
   "metadata": {},
   "outputs": [
    {
     "name": "stdout",
     "output_type": "stream",
     "text": [
      "\t\u001b[0m.text\n",
      "\t\u001b[0m.file\t\u001b[0m\"test_function\"\n",
      "\t\u001b[0m.section\t\u001b[0m.rodata.cst8\u001b[0m,\u001b[0m\"aM\"\u001b[0m,\u001b[0m@progbits\u001b[0m,\u001b[33m8\u001b[39m\n",
      "\t\u001b[0m.p2align\t\u001b[33m3\u001b[39m                               \u001b[90m# -- Begin function julia_test_function_1247\u001b[39m\n",
      "\u001b[91m.LCPI0_0:\u001b[39m\n",
      "\t\u001b[0m.quad\t\u001b[33m0x3ff0000000000000\u001b[39m              \u001b[90m# double 1\u001b[39m\n",
      "\t\u001b[0m.text\n",
      "\t\u001b[0m.globl\t\u001b[0mjulia_test_function_1247\n",
      "\t\u001b[0m.p2align\t\u001b[33m4\u001b[39m\u001b[0m, \u001b[33m0x90\u001b[39m\n",
      "\t\u001b[0m.type\t\u001b[0mjulia_test_function_1247\u001b[0m,\u001b[0m@function\n",
      "\u001b[91mjulia_test_function_1247:\u001b[39m               \u001b[90m# @julia_test_function_1247\u001b[39m\n",
      "\t\u001b[0m.cfi_startproc\n",
      "\u001b[90m# %bb.0:                                # %top\u001b[39m\n",
      "\t\u001b[96m\u001b[1mpush\u001b[22m\u001b[39m\t\u001b[0mrbp\n",
      "\t\u001b[0m.cfi_def_cfa_offset \u001b[33m16\u001b[39m\n",
      "\t\u001b[0m.cfi_offset \u001b[0mrbp\u001b[0m, \u001b[33m-16\u001b[39m\n",
      "\t\u001b[96m\u001b[1mmov\u001b[22m\u001b[39m\t\u001b[0mrbp\u001b[0m, \u001b[0mrsp\n",
      "\t\u001b[0m.cfi_def_cfa_register \u001b[0mrbp\n",
      "\t\u001b[96m\u001b[1mmovabs\u001b[22m\u001b[39m\t\u001b[0mrax\u001b[0m, \u001b[95moffset\u001b[39m \u001b[0m.LCPI0_0\n",
      "\t\u001b[96m\u001b[1mvaddsd\u001b[22m\u001b[39m\t\u001b[0mxmm0\u001b[0m, \u001b[0mxmm0\u001b[0m, \u001b[95mqword\u001b[39m \u001b[95mptr\u001b[39m \u001b[33m[\u001b[39m\u001b[0mrax\u001b[33m]\u001b[39m\n",
      "\t\u001b[96m\u001b[1mpop\u001b[22m\u001b[39m\t\u001b[0mrbp\n",
      "\t\u001b[96m\u001b[1mret\u001b[22m\u001b[39m\n",
      "\u001b[91m.Lfunc_end0:\u001b[39m\n",
      "\t\u001b[0m.size\t\u001b[0mjulia_test_function_1247\u001b[0m, \u001b[0m.Lfunc_end0-julia_test_function_1247\n",
      "\t\u001b[0m.cfi_endproc\n",
      "                                        \u001b[90m# -- End function\u001b[39m\n",
      "\t\u001b[0m.section\t\u001b[0m\".note.GNU-stack\"\u001b[0m,\u001b[0m\"\"\u001b[0m,\u001b[0m@progbits\n"
     ]
    }
   ],
   "source": [
    "@code_native debuginfo=:none test_function(1.0)"
   ]
  },
  {
   "cell_type": "code",
   "execution_count": 8,
   "id": "26c069b7",
   "metadata": {},
   "outputs": [
    {
     "name": "stdout",
     "output_type": "stream",
     "text": [
      "\t\u001b[0m.text\n",
      "\t\u001b[0m.file\t\u001b[0m\"test_function\"\n",
      "\t\u001b[0m.globl\t\u001b[0mjulia_test_function_1249        \u001b[90m# -- Begin function julia_test_function_1249\u001b[39m\n",
      "\t\u001b[0m.p2align\t\u001b[33m4\u001b[39m\u001b[0m, \u001b[33m0x90\u001b[39m\n",
      "\t\u001b[0m.type\t\u001b[0mjulia_test_function_1249\u001b[0m,\u001b[0m@function\n",
      "\u001b[91mjulia_test_function_1249:\u001b[39m               \u001b[90m# @julia_test_function_1249\u001b[39m\n",
      "\t\u001b[0m.cfi_startproc\n",
      "\u001b[90m# %bb.0:                                # %top\u001b[39m\n",
      "\t\u001b[96m\u001b[1mpush\u001b[22m\u001b[39m\t\u001b[0mrbp\n",
      "\t\u001b[0m.cfi_def_cfa_offset \u001b[33m16\u001b[39m\n",
      "\t\u001b[0m.cfi_offset \u001b[0mrbp\u001b[0m, \u001b[33m-16\u001b[39m\n",
      "\t\u001b[96m\u001b[1mmov\u001b[22m\u001b[39m\t\u001b[0mrbp\u001b[0m, \u001b[0mrsp\n",
      "\t\u001b[0m.cfi_def_cfa_register \u001b[0mrbp\n",
      "\t\u001b[96m\u001b[1mlea\u001b[22m\u001b[39m\t\u001b[0mrax\u001b[0m, \u001b[33m[\u001b[39m\u001b[0mrcx \u001b[0m+ \u001b[33m1\u001b[39m\u001b[33m]\u001b[39m\n",
      "\t\u001b[96m\u001b[1mpop\u001b[22m\u001b[39m\t\u001b[0mrbp\n",
      "\t\u001b[96m\u001b[1mret\u001b[22m\u001b[39m\n",
      "\u001b[91m.Lfunc_end0:\u001b[39m\n",
      "\t\u001b[0m.size\t\u001b[0mjulia_test_function_1249\u001b[0m, \u001b[0m.Lfunc_end0-julia_test_function_1249\n",
      "\t\u001b[0m.cfi_endproc\n",
      "                                        \u001b[90m# -- End function\u001b[39m\n",
      "\t\u001b[0m.section\t\u001b[0m\".note.GNU-stack\"\u001b[0m,\u001b[0m\"\"\u001b[0m,\u001b[0m@progbits\n"
     ]
    }
   ],
   "source": [
    "@code_native debuginfo=:none test_function(1)"
   ]
  },
  {
   "cell_type": "markdown",
   "id": "36f1f632",
   "metadata": {
    "slideshow": {
     "slide_type": "slide"
    }
   },
   "source": [
    "This gets ridiculous if you get outside numeric types:"
   ]
  },
  {
   "cell_type": "code",
   "execution_count": 9,
   "id": "73d8a48e",
   "metadata": {},
   "outputs": [
    {
     "data": {
      "text/plain": [
       "CodeInfo(\n",
       "\u001b[90m1 ──\u001b[39m        goto #25 if not true\n",
       "\u001b[90m2 ──\u001b[39m %2   = Base.bitcast(Base.UInt32, x)\u001b[36m::UInt32\u001b[39m\n",
       "\u001b[90m│   \u001b[39m %3   = Base.lshr_int(%2, 0x0000000000000018)\u001b[36m::UInt32\u001b[39m\n",
       "\u001b[90m│   \u001b[39m %4   = Base.shl_int(%2, 0xffffffffffffffe8)\u001b[36m::UInt32\u001b[39m\n",
       "\u001b[90m│   \u001b[39m %5   = Core.ifelse(true, %3, %4)\u001b[36m::UInt32\u001b[39m\n",
       "\u001b[90m│   \u001b[39m %6   = Base.trunc_int(Int8, %5)\u001b[36m::Int8\u001b[39m\n",
       "\u001b[90m│   \u001b[39m %7   = Core.sext_int(Core.Int32, %6)\u001b[36m::Int32\u001b[39m\n",
       "\u001b[90m│   \u001b[39m %8   = Core.sext_int(Core.Int64, %7)\u001b[36m::Int64\u001b[39m\n",
       "\u001b[90m│   \u001b[39m %9   = Base.sle_int(0, %8)\u001b[36m::Bool\u001b[39m\n",
       "\u001b[90m└───\u001b[39m        goto #25 if not %9\n",
       "\u001b[90m3 ──\u001b[39m %11  = Base.sext_int(Int64, %7)\u001b[36m::Int64\u001b[39m\n",
       "\u001b[90m│   \u001b[39m %12  = Base.add_int(%11, 1)\u001b[36m::Int64\u001b[39m\n",
       "\u001b[90m│   \u001b[39m %13  = Base.sle_int(0, %12)\u001b[36m::Bool\u001b[39m\n",
       "\u001b[90m└───\u001b[39m        goto #5 if not %13\n",
       "\u001b[90m4 ──\u001b[39m %15  = Base.slt_int(%12, 0)\u001b[36m::Bool\u001b[39m\n",
       "\u001b[90m│   \u001b[39m %16  = Base.bitcast(UInt64, %12)\u001b[36m::UInt64\u001b[39m\n",
       "\u001b[90m│   \u001b[39m %17  = Base.ult_int(%16, 0x0000000000000080)\u001b[36m::Bool\u001b[39m\n",
       "\u001b[90m│   \u001b[39m %18  = Base.or_int(%15, %17)\u001b[36m::Bool\u001b[39m\n",
       "\u001b[90m└───\u001b[39m        goto #6\n",
       "\u001b[90m5 ──\u001b[39m        nothing\u001b[90m::Nothing\u001b[39m\n",
       "\u001b[90m6 ┄─\u001b[39m %21  = φ (#4 => %18, #5 => false)\u001b[36m::Bool\u001b[39m\n",
       "\u001b[90m└───\u001b[39m        goto #8 if not %21\n",
       "\u001b[90m7 ──\u001b[39m %23  = Base.trunc_int(UInt32, %12)\u001b[36m::UInt32\u001b[39m\n",
       "\u001b[90m│   \u001b[39m %24  = Base.shl_int(%23, 0x0000000000000018)\u001b[36m::UInt32\u001b[39m\n",
       "\u001b[90m│   \u001b[39m %25  = Base.lshr_int(%23, 0xffffffffffffffe8)\u001b[36m::UInt32\u001b[39m\n",
       "\u001b[90m│   \u001b[39m %26  = Core.ifelse(true, %24, %25)\u001b[36m::UInt32\u001b[39m\n",
       "\u001b[90m│   \u001b[39m %27  = Base.bitcast(Base.Char, %26)\u001b[36m::Char\u001b[39m\n",
       "\u001b[90m└───\u001b[39m        goto #54\n",
       "\u001b[90m8 ──\u001b[39m %29  = Core.trunc_int(UInt32, %12)\u001b[36m::UInt32\u001b[39m\n",
       "\u001b[90m│   \u001b[39m %30  = Core.zext_int(Int64, %29)\u001b[36m::Int64\u001b[39m\n",
       "\u001b[90m│   \u001b[39m %31  = Core.eq_int(%12, %30)\u001b[36m::Bool\u001b[39m\n",
       "\u001b[90m└───\u001b[39m        goto #10 if not %31\n",
       "\u001b[90m9 ──\u001b[39m        goto #11\n",
       "\u001b[90m10 ─\u001b[39m        invoke Core.throw_inexacterror(:trunc::Symbol, UInt32::Type{UInt32}, %12::Int64)\u001b[90m::Union{}\u001b[39m\n",
       "\u001b[90m└───\u001b[39m        unreachable\n",
       "\u001b[90m11 ─\u001b[39m        goto #12\n",
       "\u001b[90m12 ─\u001b[39m        goto #13\n",
       "\u001b[90m13 ─\u001b[39m %38  = Base.ult_int(%29, 0x00000080)\u001b[36m::Bool\u001b[39m\n",
       "\u001b[90m└───\u001b[39m        goto #15 if not %38\n",
       "\u001b[90m14 ─\u001b[39m %40  = Base.shl_int(%29, 0x0000000000000018)\u001b[36m::UInt32\u001b[39m\n",
       "\u001b[90m│   \u001b[39m %41  = Base.lshr_int(%29, 0xffffffffffffffe8)\u001b[36m::UInt32\u001b[39m\n",
       "\u001b[90m│   \u001b[39m %42  = Core.ifelse(true, %40, %41)\u001b[36m::UInt32\u001b[39m\n",
       "\u001b[90m│   \u001b[39m %43  = Base.bitcast(Base.Char, %42)\u001b[36m::Char\u001b[39m\n",
       "\u001b[90m└───\u001b[39m        goto #24\n",
       "\u001b[90m15 ─\u001b[39m %45  = Base.ult_int(%29, 0x00200000)\u001b[36m::Bool\u001b[39m\n",
       "\u001b[90m└───\u001b[39m        goto #23 if not %45\n",
       "\u001b[90m16 ─\u001b[39m %47  = Base.shl_int(%29, 0x0000000000000000)\u001b[36m::UInt32\u001b[39m\n",
       "\u001b[90m│   \u001b[39m %48  = Base.lshr_int(%29, 0x0000000000000000)\u001b[36m::UInt32\u001b[39m\n",
       "\u001b[90m│   \u001b[39m %49  = Core.ifelse(true, %47, %48)\u001b[36m::UInt32\u001b[39m\n",
       "\u001b[90m│   \u001b[39m %50  = Base.and_int(%49, 0x0000003f)\u001b[36m::UInt32\u001b[39m\n",
       "\u001b[90m│   \u001b[39m %51  = Base.shl_int(%29, 0x0000000000000002)\u001b[36m::UInt32\u001b[39m\n",
       "\u001b[90m│   \u001b[39m %52  = Base.lshr_int(%29, 0xfffffffffffffffe)\u001b[36m::UInt32\u001b[39m\n",
       "\u001b[90m│   \u001b[39m %53  = Core.ifelse(true, %51, %52)\u001b[36m::UInt32\u001b[39m\n",
       "\u001b[90m│   \u001b[39m %54  = Base.and_int(%53, 0x00003f00)\u001b[36m::UInt32\u001b[39m\n",
       "\u001b[90m│   \u001b[39m %55  = Base.or_int(%50, %54)\u001b[36m::UInt32\u001b[39m\n",
       "\u001b[90m│   \u001b[39m %56  = Base.shl_int(%29, 0x0000000000000004)\u001b[36m::UInt32\u001b[39m\n",
       "\u001b[90m│   \u001b[39m %57  = Base.lshr_int(%29, 0xfffffffffffffffc)\u001b[36m::UInt32\u001b[39m\n",
       "\u001b[90m│   \u001b[39m %58  = Core.ifelse(true, %56, %57)\u001b[36m::UInt32\u001b[39m\n",
       "\u001b[90m│   \u001b[39m %59  = Base.and_int(%58, 0x003f0000)\u001b[36m::UInt32\u001b[39m\n",
       "\u001b[90m│   \u001b[39m %60  = Base.or_int(%55, %59)\u001b[36m::UInt32\u001b[39m\n",
       "\u001b[90m│   \u001b[39m %61  = Base.shl_int(%29, 0x0000000000000006)\u001b[36m::UInt32\u001b[39m\n",
       "\u001b[90m│   \u001b[39m %62  = Base.lshr_int(%29, 0xfffffffffffffffa)\u001b[36m::UInt32\u001b[39m\n",
       "\u001b[90m│   \u001b[39m %63  = Core.ifelse(true, %61, %62)\u001b[36m::UInt32\u001b[39m\n",
       "\u001b[90m│   \u001b[39m %64  = Base.and_int(%63, 0x3f000000)\u001b[36m::UInt32\u001b[39m\n",
       "\u001b[90m│   \u001b[39m %65  = Base.or_int(%60, %64)\u001b[36m::UInt32\u001b[39m\n",
       "\u001b[90m│   \u001b[39m %66  = Base.ult_int(%29, 0x00000800)\u001b[36m::Bool\u001b[39m\n",
       "\u001b[90m└───\u001b[39m        goto #18 if not %66\n",
       "\u001b[90m17 ─\u001b[39m %68  = Base.shl_int(%65, 0x0000000000000010)\u001b[36m::UInt32\u001b[39m\n",
       "\u001b[90m│   \u001b[39m %69  = Base.lshr_int(%65, 0xfffffffffffffff0)\u001b[36m::UInt32\u001b[39m\n",
       "\u001b[90m│   \u001b[39m %70  = Core.ifelse(true, %68, %69)\u001b[36m::UInt32\u001b[39m\n",
       "\u001b[90m│   \u001b[39m %71  = Base.or_int(%70, 0xc0800000)\u001b[36m::UInt32\u001b[39m\n",
       "\u001b[90m└───\u001b[39m        goto #22\n",
       "\u001b[90m18 ─\u001b[39m %73  = Base.ult_int(%29, 0x00010000)\u001b[36m::Bool\u001b[39m\n",
       "\u001b[90m└───\u001b[39m        goto #20 if not %73\n",
       "\u001b[90m19 ─\u001b[39m %75  = Base.shl_int(%65, 0x0000000000000008)\u001b[36m::UInt32\u001b[39m\n",
       "\u001b[90m│   \u001b[39m %76  = Base.lshr_int(%65, 0xfffffffffffffff8)\u001b[36m::UInt32\u001b[39m\n",
       "\u001b[90m│   \u001b[39m %77  = Core.ifelse(true, %75, %76)\u001b[36m::UInt32\u001b[39m\n",
       "\u001b[90m│   \u001b[39m %78  = Base.or_int(%77, 0xe0808000)\u001b[36m::UInt32\u001b[39m\n",
       "\u001b[90m└───\u001b[39m        goto #21\n",
       "\u001b[90m20 ─\u001b[39m %80  = Base.shl_int(%65, 0x0000000000000000)\u001b[36m::UInt32\u001b[39m\n",
       "\u001b[90m│   \u001b[39m %81  = Base.lshr_int(%65, 0x0000000000000000)\u001b[36m::UInt32\u001b[39m\n",
       "\u001b[90m│   \u001b[39m %82  = Core.ifelse(true, %80, %81)\u001b[36m::UInt32\u001b[39m\n",
       "\u001b[90m└───\u001b[39m %83  = Base.or_int(%82, 0xf0808080)\u001b[36m::UInt32\u001b[39m\n",
       "\u001b[90m21 ┄\u001b[39m %84  = φ (#19 => %78, #20 => %83)\u001b[36m::UInt32\u001b[39m\n",
       "\u001b[90m22 ┄\u001b[39m %85  = φ (#17 => %71, #21 => %84)\u001b[36m::UInt32\u001b[39m\n",
       "\u001b[90m│   \u001b[39m %86  = Base.bitcast(Base.Char, %85)\u001b[36m::Char\u001b[39m\n",
       "\u001b[90m└───\u001b[39m        goto #24\n",
       "\u001b[90m23 ─\u001b[39m        invoke Base.throw_code_point_err(%29::UInt32)\u001b[90m::Union{}\u001b[39m\n",
       "\u001b[90m└───\u001b[39m        unreachable\n",
       "\u001b[90m24 ┄\u001b[39m %90  = φ (#14 => %43, #22 => %86)\u001b[36m::Char\u001b[39m\n",
       "\u001b[90m└───\u001b[39m        goto #54\n",
       "\u001b[90m25 ┄\u001b[39m %92  = Base.bitcast(Base.UInt32, x)\u001b[36m::UInt32\u001b[39m\n",
       "\u001b[90m│   \u001b[39m %93  = Base.ult_int(%92, 0x80000000)\u001b[36m::Bool\u001b[39m\n",
       "\u001b[90m└───\u001b[39m        goto #27 if not %93\n",
       "\u001b[90m26 ─\u001b[39m %95  = Base.lshr_int(%92, 0x0000000000000018)\u001b[36m::UInt32\u001b[39m\n",
       "\u001b[90m│   \u001b[39m %96  = Base.shl_int(%92, 0xffffffffffffffe8)\u001b[36m::UInt32\u001b[39m\n",
       "\u001b[90m│   \u001b[39m %97  = Core.ifelse(true, %95, %96)\u001b[36m::UInt32\u001b[39m\n",
       "\u001b[90m└───\u001b[39m        goto #30\n",
       "\u001b[90m27 ─\u001b[39m %99  = Base.not_int(%92)\u001b[36m::UInt32\u001b[39m\n",
       "\u001b[90m│   \u001b[39m %100 = Base.ctlz_int(%99)\u001b[36m::UInt32\u001b[39m\n",
       "\u001b[90m│   \u001b[39m %101 = Core.zext_int(Core.Int64, %100)\u001b[36m::Int64\u001b[39m\n",
       "\u001b[90m│   \u001b[39m %102 = Base.cttz_int(%92)\u001b[36m::UInt32\u001b[39m\n",
       "\u001b[90m│   \u001b[39m %103 = Core.zext_int(Core.Int64, %102)\u001b[36m::Int64\u001b[39m\n",
       "\u001b[90m│   \u001b[39m %104 = Base.and_int(%103, 56)\u001b[36m::Int64\u001b[39m\n",
       "\u001b[90m│   \u001b[39m %105 = (%101 === 1)\u001b[36m::Bool\u001b[39m\n",
       "\u001b[90m│   \u001b[39m %106 = Base.mul_int(8, %101)\u001b[36m::Int64\u001b[39m\n",
       "\u001b[90m│   \u001b[39m %107 = Base.add_int(%106, %104)\u001b[36m::Int64\u001b[39m\n",
       "\u001b[90m│   \u001b[39m %108 = Base.slt_int(32, %107)\u001b[36m::Bool\u001b[39m\n",
       "\u001b[90m│   \u001b[39m %109 = Base.or_int(%105, %108)\u001b[36m::Bool\u001b[39m\n",
       "\u001b[90m│   \u001b[39m %110 = Base.and_int(%92, 0x00c0c0c0)\u001b[36m::UInt32\u001b[39m\n",
       "\u001b[90m│   \u001b[39m %111 = Base.xor_int(%110, 0x00808080)\u001b[36m::UInt32\u001b[39m\n",
       "\u001b[90m│   \u001b[39m %112 = Base.sle_int(0, %104)\u001b[36m::Bool\u001b[39m\n",
       "\u001b[90m│   \u001b[39m %113 = Base.bitcast(UInt64, %104)\u001b[36m::UInt64\u001b[39m\n",
       "\u001b[90m│   \u001b[39m %114 = Base.lshr_int(%111, %113)\u001b[36m::UInt32\u001b[39m\n",
       "\u001b[90m│   \u001b[39m %115 = Base.neg_int(%104)\u001b[36m::Int64\u001b[39m\n",
       "\u001b[90m│   \u001b[39m %116 = Base.bitcast(UInt64, %115)\u001b[36m::UInt64\u001b[39m\n",
       "\u001b[90m│   \u001b[39m %117 = Base.shl_int(%111, %116)\u001b[36m::UInt32\u001b[39m\n",
       "\u001b[90m│   \u001b[39m %118 = Core.ifelse(%112, %114, %117)\u001b[36m::UInt32\u001b[39m\n",
       "\u001b[90m│   \u001b[39m %119 = Core.zext_int(Core.UInt64, %118)\u001b[36m::UInt64\u001b[39m\n",
       "\u001b[90m│   \u001b[39m %120 = (%119 === 0x0000000000000000)\u001b[36m::Bool\u001b[39m\n",
       "\u001b[90m│   \u001b[39m %121 = Base.and_int(true, %120)\u001b[36m::Bool\u001b[39m\n",
       "\u001b[90m│   \u001b[39m %122 = Base.not_int(%121)\u001b[36m::Bool\u001b[39m\n",
       "\u001b[90m│   \u001b[39m %123 = Base.lshr_int(%92, 0x0000000000000018)\u001b[36m::UInt32\u001b[39m\n",
       "\u001b[90m│   \u001b[39m %124 = Base.shl_int(%92, 0xffffffffffffffe8)\u001b[36m::UInt32\u001b[39m\n",
       "\u001b[90m│   \u001b[39m %125 = Core.ifelse(true, %123, %124)\u001b[36m::UInt32\u001b[39m\n",
       "\u001b[90m│   \u001b[39m %126 = (%125 === 0x000000c0)\u001b[36m::Bool\u001b[39m\n",
       "\u001b[90m│   \u001b[39m %127 = Base.lshr_int(%92, 0x0000000000000018)\u001b[36m::UInt32\u001b[39m\n",
       "\u001b[90m│   \u001b[39m %128 = Base.shl_int(%92, 0xffffffffffffffe8)\u001b[36m::UInt32\u001b[39m\n",
       "\u001b[90m│   \u001b[39m %129 = Core.ifelse(true, %127, %128)\u001b[36m::UInt32\u001b[39m\n",
       "\u001b[90m│   \u001b[39m %130 = (%129 === 0x000000c1)\u001b[36m::Bool\u001b[39m\n",
       "\u001b[90m│   \u001b[39m %131 = Base.or_int(%126, %130)\u001b[36m::Bool\u001b[39m\n",
       "\u001b[90m│   \u001b[39m %132 = Base.lshr_int(%92, 0x0000000000000015)\u001b[36m::UInt32\u001b[39m\n",
       "\u001b[90m│   \u001b[39m %133 = Base.shl_int(%92, 0xffffffffffffffeb)\u001b[36m::UInt32\u001b[39m\n",
       "\u001b[90m│   \u001b[39m %134 = Core.ifelse(true, %132, %133)\u001b[36m::UInt32\u001b[39m\n",
       "\u001b[90m│   \u001b[39m %135 = (%134 === 0x00000704)\u001b[36m::Bool\u001b[39m\n",
       "\u001b[90m│   \u001b[39m %136 = Base.or_int(%131, %135)\u001b[36m::Bool\u001b[39m\n",
       "\u001b[90m│   \u001b[39m %137 = Base.lshr_int(%92, 0x0000000000000014)\u001b[36m::UInt32\u001b[39m\n",
       "\u001b[90m│   \u001b[39m %138 = Base.shl_int(%92, 0xffffffffffffffec)\u001b[36m::UInt32\u001b[39m\n",
       "\u001b[90m│   \u001b[39m %139 = Core.ifelse(true, %137, %138)\u001b[36m::UInt32\u001b[39m\n",
       "\u001b[90m│   \u001b[39m %140 = (%139 === 0x00000f08)\u001b[36m::Bool\u001b[39m\n",
       "\u001b[90m│   \u001b[39m %141 = Base.or_int(%136, %140)\u001b[36m::Bool\u001b[39m\n",
       "\u001b[90m│   \u001b[39m %142 = Base.or_int(%122, %141)\u001b[36m::Bool\u001b[39m\n",
       "\u001b[90m│   \u001b[39m %143 = Base.or_int(%109, %142)\u001b[36m::Bool\u001b[39m\n",
       "\u001b[90m└───\u001b[39m        goto #29 if not %143\n",
       "\u001b[90m28 ─\u001b[39m        invoke Base.throw_invalid_char(x::Char)\u001b[90m::Union{}\u001b[39m\n",
       "\u001b[90m└───\u001b[39m        unreachable\n",
       "\u001b[90m29 ─\u001b[39m %147 = Base.sle_int(0, %101)\u001b[36m::Bool\u001b[39m\n",
       "\u001b[90m│   \u001b[39m %148 = Base.bitcast(UInt64, %101)\u001b[36m::UInt64\u001b[39m\n",
       "\u001b[90m│   \u001b[39m %149 = Base.lshr_int(0xffffffff, %148)\u001b[36m::UInt32\u001b[39m\n",
       "\u001b[90m│   \u001b[39m %150 = Base.neg_int(%101)\u001b[36m::Int64\u001b[39m\n",
       "\u001b[90m│   \u001b[39m %151 = Base.bitcast(UInt64, %150)\u001b[36m::UInt64\u001b[39m\n",
       "\u001b[90m│   \u001b[39m %152 = Base.shl_int(0xffffffff, %151)\u001b[36m::UInt32\u001b[39m\n",
       "\u001b[90m│   \u001b[39m %153 = Core.ifelse(%147, %149, %152)\u001b[36m::UInt32\u001b[39m\n",
       "\u001b[90m│   \u001b[39m %154 = Base.and_int(%92, %153)\u001b[36m::UInt32\u001b[39m\n",
       "\u001b[90m│   \u001b[39m %155 = Base.sle_int(0, %104)\u001b[36m::Bool\u001b[39m\n",
       "\u001b[90m│   \u001b[39m %156 = Base.bitcast(UInt64, %104)\u001b[36m::UInt64\u001b[39m\n",
       "\u001b[90m│   \u001b[39m %157 = Base.lshr_int(%154, %156)\u001b[36m::UInt32\u001b[39m\n",
       "\u001b[90m│   \u001b[39m %158 = Base.neg_int(%104)\u001b[36m::Int64\u001b[39m\n",
       "\u001b[90m│   \u001b[39m %159 = Base.bitcast(UInt64, %158)\u001b[36m::UInt64\u001b[39m\n",
       "\u001b[90m│   \u001b[39m %160 = Base.shl_int(%154, %159)\u001b[36m::UInt32\u001b[39m\n",
       "\u001b[90m│   \u001b[39m %161 = Core.ifelse(%155, %157, %160)\u001b[36m::UInt32\u001b[39m\n",
       "\u001b[90m│   \u001b[39m %162 = Base.and_int(%161, 0x0000007f)\u001b[36m::UInt32\u001b[39m\n",
       "\u001b[90m│   \u001b[39m %163 = Base.lshr_int(%162, 0x0000000000000000)\u001b[36m::UInt32\u001b[39m\n",
       "\u001b[90m│   \u001b[39m %164 = Base.shl_int(%162, 0x0000000000000000)\u001b[36m::UInt32\u001b[39m\n",
       "\u001b[90m│   \u001b[39m %165 = Core.ifelse(true, %163, %164)\u001b[36m::UInt32\u001b[39m\n",
       "\u001b[90m│   \u001b[39m %166 = Base.and_int(%161, 0x00007f00)\u001b[36m::UInt32\u001b[39m\n",
       "\u001b[90m│   \u001b[39m %167 = Base.lshr_int(%166, 0x0000000000000002)\u001b[36m::UInt32\u001b[39m\n",
       "\u001b[90m│   \u001b[39m %168 = Base.shl_int(%166, 0xfffffffffffffffe)\u001b[36m::UInt32\u001b[39m\n",
       "\u001b[90m│   \u001b[39m %169 = Core.ifelse(true, %167, %168)\u001b[36m::UInt32\u001b[39m\n",
       "\u001b[90m│   \u001b[39m %170 = Base.or_int(%165, %169)\u001b[36m::UInt32\u001b[39m\n",
       "\u001b[90m│   \u001b[39m %171 = Base.and_int(%161, 0x007f0000)\u001b[36m::UInt32\u001b[39m\n",
       "\u001b[90m│   \u001b[39m %172 = Base.lshr_int(%171, 0x0000000000000004)\u001b[36m::UInt32\u001b[39m\n",
       "\u001b[90m│   \u001b[39m %173 = Base.shl_int(%171, 0xfffffffffffffffc)\u001b[36m::UInt32\u001b[39m\n",
       "\u001b[90m│   \u001b[39m %174 = Core.ifelse(true, %172, %173)\u001b[36m::UInt32\u001b[39m\n",
       "\u001b[90m│   \u001b[39m %175 = Base.or_int(%170, %174)\u001b[36m::UInt32\u001b[39m\n",
       "\u001b[90m│   \u001b[39m %176 = Base.and_int(%161, 0x7f000000)\u001b[36m::UInt32\u001b[39m\n",
       "\u001b[90m│   \u001b[39m %177 = Base.lshr_int(%176, 0x0000000000000006)\u001b[36m::UInt32\u001b[39m\n",
       "\u001b[90m│   \u001b[39m %178 = Base.shl_int(%176, 0xfffffffffffffffa)\u001b[36m::UInt32\u001b[39m\n",
       "\u001b[90m│   \u001b[39m %179 = Core.ifelse(true, %177, %178)\u001b[36m::UInt32\u001b[39m\n",
       "\u001b[90m│   \u001b[39m %180 = Base.or_int(%175, %179)\u001b[36m::UInt32\u001b[39m\n",
       "\u001b[90m└───\u001b[39m        goto #30\n",
       "\u001b[90m30 ┄\u001b[39m %182 = φ (#26 => %97, #29 => %180)\u001b[36m::UInt32\u001b[39m\n",
       "\u001b[90m└───\u001b[39m        goto #31\n",
       "\u001b[90m31 ─\u001b[39m %184 = Base.bitcast(Int32, %182)\u001b[36m::Int32\u001b[39m\n",
       "\u001b[90m└───\u001b[39m        goto #32\n",
       "\u001b[90m32 ─\u001b[39m        nothing\u001b[90m::Nothing\u001b[39m\n",
       "\u001b[90m└───\u001b[39m        goto #34\n",
       "\u001b[90m33 ─\u001b[39m        nothing\u001b[90m::Nothing\u001b[39m\n",
       "\u001b[90m34 ┄\u001b[39m        goto #35\n",
       "\u001b[90m35 ─\u001b[39m        goto #36\n",
       "\u001b[90m36 ─\u001b[39m %191 = Base.add_int(%184, 1)\u001b[36m::Int32\u001b[39m\n",
       "\u001b[90m│   \u001b[39m %192 = Core.lshr_int(%191, 31)\u001b[36m::Int32\u001b[39m\n",
       "\u001b[90m│   \u001b[39m %193 = Core.trunc_int(Core.UInt8, %192)\u001b[36m::UInt8\u001b[39m\n",
       "\u001b[90m│   \u001b[39m %194 = Core.eq_int(%193, 0x01)\u001b[36m::Bool\u001b[39m\n",
       "\u001b[90m└───\u001b[39m        goto #38 if not %194\n",
       "\u001b[90m37 ─\u001b[39m        invoke Core.throw_inexacterror(:check_top_bit::Symbol, UInt32::Type{UInt32}, %191::Int32)\u001b[90m::Union{}\u001b[39m\n",
       "\u001b[90m└───\u001b[39m        unreachable\n",
       "\u001b[90m38 ─\u001b[39m        goto #39\n",
       "\u001b[90m39 ─\u001b[39m %199 = Core.bitcast(Core.UInt32, %191)\u001b[36m::UInt32\u001b[39m\n",
       "\u001b[90m└───\u001b[39m        goto #40\n",
       "\u001b[90m40 ─\u001b[39m        goto #41\n",
       "\u001b[90m41 ─\u001b[39m %202 = Base.ult_int(%199, 0x00000080)\u001b[36m::Bool\u001b[39m\n",
       "\u001b[90m└───\u001b[39m        goto #43 if not %202\n",
       "\u001b[90m42 ─\u001b[39m %204 = Base.shl_int(%199, 0x0000000000000018)\u001b[36m::UInt32\u001b[39m\n",
       "\u001b[90m│   \u001b[39m %205 = Base.lshr_int(%199, 0xffffffffffffffe8)\u001b[36m::UInt32\u001b[39m\n",
       "\u001b[90m│   \u001b[39m %206 = Core.ifelse(true, %204, %205)\u001b[36m::UInt32\u001b[39m\n",
       "\u001b[90m│   \u001b[39m %207 = Base.bitcast(Base.Char, %206)\u001b[36m::Char\u001b[39m\n",
       "\u001b[90m└───\u001b[39m        goto #52\n",
       "\u001b[90m43 ─\u001b[39m %209 = Base.ult_int(%199, 0x00200000)\u001b[36m::Bool\u001b[39m\n",
       "\u001b[90m└───\u001b[39m        goto #51 if not %209\n",
       "\u001b[90m44 ─\u001b[39m %211 = Base.shl_int(%199, 0x0000000000000000)\u001b[36m::UInt32\u001b[39m\n",
       "\u001b[90m│   \u001b[39m %212 = Base.lshr_int(%199, 0x0000000000000000)\u001b[36m::UInt32\u001b[39m\n",
       "\u001b[90m│   \u001b[39m %213 = Core.ifelse(true, %211, %212)\u001b[36m::UInt32\u001b[39m\n",
       "\u001b[90m│   \u001b[39m %214 = Base.and_int(%213, 0x0000003f)\u001b[36m::UInt32\u001b[39m\n",
       "\u001b[90m│   \u001b[39m %215 = Base.shl_int(%199, 0x0000000000000002)\u001b[36m::UInt32\u001b[39m\n",
       "\u001b[90m│   \u001b[39m %216 = Base.lshr_int(%199, 0xfffffffffffffffe)\u001b[36m::UInt32\u001b[39m\n",
       "\u001b[90m│   \u001b[39m %217 = Core.ifelse(true, %215, %216)\u001b[36m::UInt32\u001b[39m\n",
       "\u001b[90m│   \u001b[39m %218 = Base.and_int(%217, 0x00003f00)\u001b[36m::UInt32\u001b[39m\n",
       "\u001b[90m│   \u001b[39m %219 = Base.or_int(%214, %218)\u001b[36m::UInt32\u001b[39m\n",
       "\u001b[90m│   \u001b[39m %220 = Base.shl_int(%199, 0x0000000000000004)\u001b[36m::UInt32\u001b[39m\n",
       "\u001b[90m│   \u001b[39m %221 = Base.lshr_int(%199, 0xfffffffffffffffc)\u001b[36m::UInt32\u001b[39m\n",
       "\u001b[90m│   \u001b[39m %222 = Core.ifelse(true, %220, %221)\u001b[36m::UInt32\u001b[39m\n",
       "\u001b[90m│   \u001b[39m %223 = Base.and_int(%222, 0x003f0000)\u001b[36m::UInt32\u001b[39m\n",
       "\u001b[90m│   \u001b[39m %224 = Base.or_int(%219, %223)\u001b[36m::UInt32\u001b[39m\n",
       "\u001b[90m│   \u001b[39m %225 = Base.shl_int(%199, 0x0000000000000006)\u001b[36m::UInt32\u001b[39m\n",
       "\u001b[90m│   \u001b[39m %226 = Base.lshr_int(%199, 0xfffffffffffffffa)\u001b[36m::UInt32\u001b[39m\n",
       "\u001b[90m│   \u001b[39m %227 = Core.ifelse(true, %225, %226)\u001b[36m::UInt32\u001b[39m\n",
       "\u001b[90m│   \u001b[39m %228 = Base.and_int(%227, 0x3f000000)\u001b[36m::UInt32\u001b[39m\n",
       "\u001b[90m│   \u001b[39m %229 = Base.or_int(%224, %228)\u001b[36m::UInt32\u001b[39m\n",
       "\u001b[90m│   \u001b[39m %230 = Base.ult_int(%199, 0x00000800)\u001b[36m::Bool\u001b[39m\n",
       "\u001b[90m└───\u001b[39m        goto #46 if not %230\n",
       "\u001b[90m45 ─\u001b[39m %232 = Base.shl_int(%229, 0x0000000000000010)\u001b[36m::UInt32\u001b[39m\n",
       "\u001b[90m│   \u001b[39m %233 = Base.lshr_int(%229, 0xfffffffffffffff0)\u001b[36m::UInt32\u001b[39m\n",
       "\u001b[90m│   \u001b[39m %234 = Core.ifelse(true, %232, %233)\u001b[36m::UInt32\u001b[39m\n",
       "\u001b[90m│   \u001b[39m %235 = Base.or_int(%234, 0xc0800000)\u001b[36m::UInt32\u001b[39m\n",
       "\u001b[90m└───\u001b[39m        goto #50\n",
       "\u001b[90m46 ─\u001b[39m %237 = Base.ult_int(%199, 0x00010000)\u001b[36m::Bool\u001b[39m\n",
       "\u001b[90m└───\u001b[39m        goto #48 if not %237\n",
       "\u001b[90m47 ─\u001b[39m %239 = Base.shl_int(%229, 0x0000000000000008)\u001b[36m::UInt32\u001b[39m\n",
       "\u001b[90m│   \u001b[39m %240 = Base.lshr_int(%229, 0xfffffffffffffff8)\u001b[36m::UInt32\u001b[39m\n",
       "\u001b[90m│   \u001b[39m %241 = Core.ifelse(true, %239, %240)\u001b[36m::UInt32\u001b[39m\n",
       "\u001b[90m│   \u001b[39m %242 = Base.or_int(%241, 0xe0808000)\u001b[36m::UInt32\u001b[39m\n",
       "\u001b[90m└───\u001b[39m        goto #49\n",
       "\u001b[90m48 ─\u001b[39m %244 = Base.shl_int(%229, 0x0000000000000000)\u001b[36m::UInt32\u001b[39m\n",
       "\u001b[90m│   \u001b[39m %245 = Base.lshr_int(%229, 0x0000000000000000)\u001b[36m::UInt32\u001b[39m\n",
       "\u001b[90m│   \u001b[39m %246 = Core.ifelse(true, %244, %245)\u001b[36m::UInt32\u001b[39m\n",
       "\u001b[90m└───\u001b[39m %247 = Base.or_int(%246, 0xf0808080)\u001b[36m::UInt32\u001b[39m\n",
       "\u001b[90m49 ┄\u001b[39m %248 = φ (#47 => %242, #48 => %247)\u001b[36m::UInt32\u001b[39m\n",
       "\u001b[90m50 ┄\u001b[39m %249 = φ (#45 => %235, #49 => %248)\u001b[36m::UInt32\u001b[39m\n",
       "\u001b[90m│   \u001b[39m %250 = Base.bitcast(Base.Char, %249)\u001b[36m::Char\u001b[39m\n",
       "\u001b[90m└───\u001b[39m        goto #52\n",
       "\u001b[90m51 ─\u001b[39m        invoke Base.throw_code_point_err(%199::UInt32)\u001b[90m::Union{}\u001b[39m\n",
       "\u001b[90m└───\u001b[39m        unreachable\n",
       "\u001b[90m52 ┄\u001b[39m %254 = φ (#42 => %207, #50 => %250)\u001b[36m::Char\u001b[39m\n",
       "\u001b[90m└───\u001b[39m        goto #53\n",
       "\u001b[90m53 ─\u001b[39m        goto #54\n",
       "\u001b[90m54 ┄\u001b[39m %257 = φ (#7 => %27, #24 => %90, #53 => %254)\u001b[36m::Char\u001b[39m\n",
       "\u001b[90m└───\u001b[39m        return %257\n",
       ") => Char"
      ]
     },
     "metadata": {},
     "output_type": "display_data"
    }
   ],
   "source": [
    "@code_typed debuginfo=:none test_function('a')"
   ]
  },
  {
   "cell_type": "markdown",
   "id": "6f2e7d84",
   "metadata": {
    "slideshow": {
     "slide_type": "slide"
    }
   },
   "source": [
    "## Why am I telling you this?\n",
    "\n",
    "Every time you give a function a new type of input, Julia will compile a new specialization! \n",
    "\n",
    "If the new type is concrete and precise, Julia can make a precise, fast, specialized function.\n",
    "\n",
    "If the new type is abstract and general, Julia can't do that specialization. It can't make ultra-fast native code for you!"
   ]
  },
  {
   "cell_type": "markdown",
   "id": "b69a6baa",
   "metadata": {
    "slideshow": {
     "slide_type": "slide"
    }
   },
   "source": [
    "## Type stability\n",
    "\n",
    "This problem is known as __type stability__. When you call the same function a lot of times with different inputs, Julia has to compile a bunch of specialized code to handle it!\n",
    "\n",
    "This is slow, not only because compiling can be slow, but also because type-unstable functions do not benefit from the amazing compiler optimizations that you can do when you know the type of everything."
   ]
  },
  {
   "cell_type": "markdown",
   "id": "09bd3745",
   "metadata": {
    "slideshow": {
     "slide_type": "slide"
    }
   },
   "source": [
    "## Type stability: an example\n"
   ]
  },
  {
   "cell_type": "code",
   "execution_count": 10,
   "id": "d7a70495",
   "metadata": {},
   "outputs": [
    {
     "name": "stdout",
     "output_type": "stream",
     "text": [
      "MethodInstance for bad_function(::Int64)\n",
      "  from bad_function(\u001b[90mx\u001b[39m)\u001b[90m @\u001b[39m \u001b[90mMain\u001b[39m \u001b[90mc:\\Users\\chadi\\OneDrive - Handelshögskolan i Stockholm\\GitHub\\julia-bootcamp-2022\\session-4\\\u001b[39m\u001b[90m\u001b[4mspeed-lecture.ipynb:1\u001b[24m\u001b[39m\n",
      "Arguments\n",
      "  #self#\u001b[36m::Core.Const(bad_function)\u001b[39m\n",
      "  x\u001b[36m::Int64\u001b[39m\n",
      "Body\u001b[33m\u001b[1m::Union{Char, Int64}\u001b[22m\u001b[39m\n",
      "\u001b[90m1 ─\u001b[39m %1 = (x >= 5)\u001b[36m::Bool\u001b[39m\n",
      "\u001b[90m└──\u001b[39m      goto #3 if not %1\n",
      "\u001b[90m2 ─\u001b[39m      return 'a'\n",
      "\u001b[90m3 ─\u001b[39m %4 = (5 * 2)\u001b[36m::Core.Const(10)\u001b[39m\n",
      "\u001b[90m└──\u001b[39m      return %4\n",
      "\n"
     ]
    }
   ],
   "source": [
    "bad_function(x) = x >= 5 ? 'a' : 5*2\n",
    "@code_warntype bad_function(3)"
   ]
  },
  {
   "cell_type": "markdown",
   "id": "6a1123fb",
   "metadata": {
    "slideshow": {
     "slide_type": "slide"
    }
   },
   "source": [
    "Type instability can end up being a huge pain if it appears __anywhere__ in another function and affects the return type of an outer function:"
   ]
  },
  {
   "cell_type": "code",
   "execution_count": 11,
   "id": "38a27d0a",
   "metadata": {
    "slideshow": {
     "slide_type": ""
    }
   },
   "outputs": [
    {
     "name": "stdout",
     "output_type": "stream",
     "text": [
      "MethodInstance for nested_function(::Float64)\n",
      "  from nested_function(\u001b[90my\u001b[39m)\u001b[90m @\u001b[39m \u001b[90mMain\u001b[39m \u001b[90mc:\\Users\\chadi\\OneDrive - Handelshögskolan i Stockholm\\GitHub\\julia-bootcamp-2022\\session-4\\\u001b[39m\u001b[90m\u001b[4mspeed-lecture.ipynb:1\u001b[24m\u001b[39m\n",
      "Arguments\n",
      "  #self#\u001b[36m::Core.Const(nested_function)\u001b[39m\n",
      "  y\u001b[36m::Float64\u001b[39m\n",
      "Locals\n",
      "  x\u001b[33m\u001b[1m::Union{Char, Int64}\u001b[22m\u001b[39m\n",
      "Body\u001b[33m\u001b[1m::Union{Char, Int64}\u001b[22m\u001b[39m\n",
      "\u001b[90m1 ─\u001b[39m      (x = Main.bad_function(y))\n",
      "\u001b[90m│  \u001b[39m %2 = (x + 1)\u001b[33m\u001b[1m::Union{Char, Int64}\u001b[22m\u001b[39m\n",
      "\u001b[90m└──\u001b[39m      return %2\n",
      "\n"
     ]
    }
   ],
   "source": [
    "function nested_function(y)\n",
    "    x = bad_function(y)\n",
    "    return x + 1\n",
    "end\n",
    "\n",
    "@code_warntype nested_function(1.0)"
   ]
  },
  {
   "cell_type": "markdown",
   "id": "98c1f98e",
   "metadata": {
    "slideshow": {
     "slide_type": "slide"
    }
   },
   "source": [
    "## Type instability\n",
    "\n",
    "Type stability is loosely defined as when the type of a function's output is only defined by the __type__ of the input, and not the __value__ of the input.\n",
    "\n",
    "When Julia doesn't know the concrete type of a thing, the code touching that thing gets worse."
   ]
  },
  {
   "cell_type": "code",
   "execution_count": 12,
   "id": "87822f9b",
   "metadata": {
    "scrolled": true,
    "slideshow": {
     "slide_type": "slide"
    }
   },
   "outputs": [
    {
     "name": "stdout",
     "output_type": "stream",
     "text": [
      "MethodInstance for maybe_zero(::Float64)\n",
      "  from maybe_zero(\u001b[90mx\u001b[39m)\u001b[90m @\u001b[39m \u001b[90mMain\u001b[39m \u001b[90mc:\\Users\\chadi\\OneDrive - Handelshögskolan i Stockholm\\GitHub\\julia-bootcamp-2022\\session-4\\\u001b[39m\u001b[90m\u001b[4mspeed-lecture.ipynb:1\u001b[24m\u001b[39m\n",
      "Arguments\n",
      "  #self#\u001b[36m::Core.Const(maybe_zero)\u001b[39m\n",
      "  x\u001b[36m::Float64\u001b[39m\n",
      "Body\u001b[33m\u001b[1m::Union{Float64, Int64}\u001b[22m\u001b[39m\n",
      "\u001b[90m1 ─\u001b[39m %1 = (x >= 0)\u001b[36m::Bool\u001b[39m\n",
      "\u001b[90m└──\u001b[39m      goto #3 if not %1\n",
      "\u001b[90m2 ─\u001b[39m      return 0\n",
      "\u001b[90m3 ─\u001b[39m      return x\n",
      "\n"
     ]
    }
   ],
   "source": [
    "maybe_zero(x) = x >= 0 ? 0 : x\n",
    "@code_warntype maybe_zero(1.0)"
   ]
  },
  {
   "cell_type": "markdown",
   "id": "2918bc9d",
   "metadata": {
    "slideshow": {
     "slide_type": "slide"
    }
   },
   "source": [
    "When we call this a bunch of times, the type instability _really_ starts to kick in:"
   ]
  },
  {
   "cell_type": "code",
   "execution_count": 13,
   "id": "e868fd19",
   "metadata": {
    "slideshow": {
     "slide_type": ""
    }
   },
   "outputs": [
    {
     "data": {
      "text/plain": [
       "BenchmarkTools.Trial: 10000 samples with 7 evaluations.\n",
       " Range \u001b[90m(\u001b[39m\u001b[36m\u001b[1mmin\u001b[22m\u001b[39m … \u001b[35mmax\u001b[39m\u001b[90m):  \u001b[39m\u001b[36m\u001b[1m 4.686 μs\u001b[22m\u001b[39m … \u001b[35m755.757 μs\u001b[39m  \u001b[90m┊\u001b[39m GC \u001b[90m(\u001b[39mmin … max\u001b[90m): \u001b[39m 0.00% … 97.84%\n",
       " Time  \u001b[90m(\u001b[39m\u001b[34m\u001b[1mmedian\u001b[22m\u001b[39m\u001b[90m):     \u001b[39m\u001b[34m\u001b[1m 7.043 μs               \u001b[22m\u001b[39m\u001b[90m┊\u001b[39m GC \u001b[90m(\u001b[39mmedian\u001b[90m):    \u001b[39m 0.00%\n",
       " Time  \u001b[90m(\u001b[39m\u001b[32m\u001b[1mmean\u001b[22m\u001b[39m ± \u001b[32mσ\u001b[39m\u001b[90m):   \u001b[39m\u001b[32m\u001b[1m10.650 μs\u001b[22m\u001b[39m ± \u001b[32m 25.849 μs\u001b[39m  \u001b[90m┊\u001b[39m GC \u001b[90m(\u001b[39mmean ± σ\u001b[90m):  \u001b[39m13.28% ±  5.87%\n",
       "\n",
       "  \u001b[39m \u001b[39m \u001b[39m \u001b[39m \u001b[39m \u001b[39m█\u001b[39m▃\u001b[34m \u001b[39m\u001b[39m \u001b[39m \u001b[39m \u001b[39m \u001b[39m \u001b[39m \u001b[39m \u001b[39m \u001b[39m \u001b[39m \u001b[32m \u001b[39m\u001b[39m \u001b[39m \u001b[39m \u001b[39m \u001b[39m \u001b[39m \u001b[39m \u001b[39m \u001b[39m \u001b[39m \u001b[39m \u001b[39m \u001b[39m \u001b[39m \u001b[39m \u001b[39m \u001b[39m \u001b[39m \u001b[39m \u001b[39m \u001b[39m \u001b[39m \u001b[39m \u001b[39m \u001b[39m \u001b[39m \u001b[39m \u001b[39m \u001b[39m \u001b[39m \u001b[39m \u001b[39m \u001b[39m \u001b[39m \u001b[39m \u001b[39m \u001b[39m \u001b[39m \u001b[39m \u001b[39m \u001b[39m \u001b[39m \u001b[39m \n",
       "  \u001b[39m▂\u001b[39m▃\u001b[39m▅\u001b[39m▆\u001b[39m█\u001b[39m█\u001b[39m█\u001b[34m▅\u001b[39m\u001b[39m▄\u001b[39m▃\u001b[39m▃\u001b[39m▃\u001b[39m▃\u001b[39m▂\u001b[39m▂\u001b[39m▂\u001b[39m▂\u001b[39m▂\u001b[32m▂\u001b[39m\u001b[39m▂\u001b[39m▂\u001b[39m▁\u001b[39m▁\u001b[39m▂\u001b[39m▂\u001b[39m▃\u001b[39m▄\u001b[39m▄\u001b[39m▄\u001b[39m▃\u001b[39m▂\u001b[39m▂\u001b[39m▂\u001b[39m▂\u001b[39m▁\u001b[39m▁\u001b[39m▁\u001b[39m▁\u001b[39m▁\u001b[39m▁\u001b[39m▁\u001b[39m▁\u001b[39m▁\u001b[39m▁\u001b[39m▁\u001b[39m▁\u001b[39m▁\u001b[39m▁\u001b[39m▁\u001b[39m▁\u001b[39m▁\u001b[39m▁\u001b[39m▁\u001b[39m▁\u001b[39m▁\u001b[39m▁\u001b[39m▁\u001b[39m▁\u001b[39m▁\u001b[39m▁\u001b[39m \u001b[39m▂\n",
       "  4.69 μs\u001b[90m         Histogram: frequency by time\u001b[39m         24.7 μs \u001b[0m\u001b[1m<\u001b[22m\n",
       "\n",
       " Memory estimate\u001b[90m: \u001b[39m\u001b[33m23.73 KiB\u001b[39m, allocs estimate\u001b[90m: \u001b[39m\u001b[33m505\u001b[39m."
      ]
     },
     "metadata": {},
     "output_type": "display_data"
    }
   ],
   "source": [
    "using BenchmarkTools\n",
    "xs = randn(1_000)\n",
    "@benchmark map(maybe_zero, $xs)"
   ]
  },
  {
   "cell_type": "markdown",
   "id": "1be998e1",
   "metadata": {
    "slideshow": {
     "slide_type": "slide"
    }
   },
   "source": [
    "Let's fix it by making sure that the type of the output is the same regardless of whether $x \\ge 0$. A handy function is `zero(thing)`, which will attempt to return a value of zero in the same type as `thing`."
   ]
  },
  {
   "cell_type": "code",
   "execution_count": 14,
   "id": "ce3d6360",
   "metadata": {
    "scrolled": true,
    "slideshow": {
     "slide_type": "slide"
    }
   },
   "outputs": [
    {
     "name": "stdout",
     "output_type": "stream",
     "text": [
      "MethodInstance for better_zero(::Float64)\n",
      "  from better_zero(\u001b[90mx\u001b[39m)\u001b[90m @\u001b[39m \u001b[90mMain\u001b[39m \u001b[90mc:\\Users\\chadi\\OneDrive - Handelshögskolan i Stockholm\\GitHub\\julia-bootcamp-2022\\session-4\\\u001b[39m\u001b[90m\u001b[4mspeed-lecture.ipynb:1\u001b[24m\u001b[39m\n",
      "Arguments\n",
      "  #self#\u001b[36m::Core.Const(better_zero)\u001b[39m\n",
      "  x\u001b[36m::Float64\u001b[39m\n",
      "Body\u001b[36m::Float64\u001b[39m\n",
      "\u001b[90m1 ─\u001b[39m %1 = (x >= 0)\u001b[36m::Bool\u001b[39m\n",
      "\u001b[90m└──\u001b[39m      goto #3 if not %1\n",
      "\u001b[90m2 ─\u001b[39m %3 = Main.zero(x)\u001b[36m::Core.Const(0.0)\u001b[39m\n",
      "\u001b[90m└──\u001b[39m      return %3\n",
      "\u001b[90m3 ─\u001b[39m      return x\n",
      "\n"
     ]
    }
   ],
   "source": [
    "better_zero(x) = x >= 0 ? zero(x) : x\n",
    "@code_warntype better_zero(1.0)"
   ]
  },
  {
   "cell_type": "markdown",
   "id": "7614ee31",
   "metadata": {
    "slideshow": {
     "slide_type": "slide"
    }
   },
   "source": [
    "Now, see how much faster this is! Fewer allocations, more consistent timing, and lower median/mean times."
   ]
  },
  {
   "cell_type": "code",
   "execution_count": 15,
   "id": "ad56e1a4",
   "metadata": {},
   "outputs": [
    {
     "data": {
      "text/plain": [
       "BenchmarkTools.Trial: 10000 samples with 191 evaluations.\n",
       " Range \u001b[90m(\u001b[39m\u001b[36m\u001b[1mmin\u001b[22m\u001b[39m … \u001b[35mmax\u001b[39m\u001b[90m):  \u001b[39m\u001b[36m\u001b[1m551.309 ns\u001b[22m\u001b[39m … \u001b[35m39.144 μs\u001b[39m  \u001b[90m┊\u001b[39m GC \u001b[90m(\u001b[39mmin … max\u001b[90m): \u001b[39m 0.00% … 93.47%\n",
       " Time  \u001b[90m(\u001b[39m\u001b[34m\u001b[1mmedian\u001b[22m\u001b[39m\u001b[90m):     \u001b[39m\u001b[34m\u001b[1m  1.262 μs              \u001b[22m\u001b[39m\u001b[90m┊\u001b[39m GC \u001b[90m(\u001b[39mmedian\u001b[90m):    \u001b[39m 0.00%\n",
       " Time  \u001b[90m(\u001b[39m\u001b[32m\u001b[1mmean\u001b[22m\u001b[39m ± \u001b[32mσ\u001b[39m\u001b[90m):   \u001b[39m\u001b[32m\u001b[1m  2.179 μs\u001b[22m\u001b[39m ± \u001b[32m 2.623 μs\u001b[39m  \u001b[90m┊\u001b[39m GC \u001b[90m(\u001b[39mmean ± σ\u001b[90m):  \u001b[39m17.70% ± 14.60%\n",
       "\n",
       "  \u001b[39m \u001b[39m▄\u001b[39m█\u001b[34m▆\u001b[39m\u001b[39m▅\u001b[39m▄\u001b[39m▄\u001b[32m▃\u001b[39m\u001b[39m▂\u001b[39m▂\u001b[39m▃\u001b[39m▃\u001b[39m▃\u001b[39m▄\u001b[39m▃\u001b[39m▂\u001b[39m▁\u001b[39m▁\u001b[39m \u001b[39m \u001b[39m \u001b[39m \u001b[39m \u001b[39m \u001b[39m \u001b[39m \u001b[39m \u001b[39m \u001b[39m \u001b[39m \u001b[39m \u001b[39m \u001b[39m \u001b[39m \u001b[39m \u001b[39m \u001b[39m \u001b[39m \u001b[39m \u001b[39m \u001b[39m \u001b[39m \u001b[39m \u001b[39m \u001b[39m \u001b[39m \u001b[39m \u001b[39m \u001b[39m \u001b[39m \u001b[39m \u001b[39m \u001b[39m \u001b[39m \u001b[39m \u001b[39m \u001b[39m \u001b[39m \u001b[39m \u001b[39m \u001b[39m \u001b[39m▂\n",
       "  \u001b[39m█\u001b[39m█\u001b[39m█\u001b[34m█\u001b[39m\u001b[39m█\u001b[39m█\u001b[39m█\u001b[32m█\u001b[39m\u001b[39m█\u001b[39m█\u001b[39m█\u001b[39m█\u001b[39m█\u001b[39m█\u001b[39m█\u001b[39m█\u001b[39m█\u001b[39m█\u001b[39m█\u001b[39m█\u001b[39m█\u001b[39m▇\u001b[39m▇\u001b[39m▅\u001b[39m▆\u001b[39m▆\u001b[39m▄\u001b[39m▅\u001b[39m▄\u001b[39m▃\u001b[39m▁\u001b[39m▁\u001b[39m▁\u001b[39m▄\u001b[39m▄\u001b[39m▄\u001b[39m▅\u001b[39m▅\u001b[39m▆\u001b[39m▆\u001b[39m▆\u001b[39m▆\u001b[39m▆\u001b[39m▆\u001b[39m▇\u001b[39m▇\u001b[39m▆\u001b[39m▇\u001b[39m▆\u001b[39m▆\u001b[39m▆\u001b[39m▆\u001b[39m▅\u001b[39m▅\u001b[39m▆\u001b[39m▅\u001b[39m▅\u001b[39m▄\u001b[39m▅\u001b[39m▅\u001b[39m \u001b[39m█\n",
       "  551 ns\u001b[90m        \u001b[39m\u001b[90mHistogram: \u001b[39m\u001b[90m\u001b[1mlog(\u001b[22m\u001b[39m\u001b[90mfrequency\u001b[39m\u001b[90m\u001b[1m)\u001b[22m\u001b[39m\u001b[90m by time\u001b[39m      14.8 μs \u001b[0m\u001b[1m<\u001b[22m\n",
       "\n",
       " Memory estimate\u001b[90m: \u001b[39m\u001b[33m7.94 KiB\u001b[39m, allocs estimate\u001b[90m: \u001b[39m\u001b[33m1\u001b[39m."
      ]
     },
     "metadata": {},
     "output_type": "display_data"
    }
   ],
   "source": [
    "@benchmark map(better_zero, $xs)"
   ]
  },
  {
   "cell_type": "markdown",
   "id": "fb92477b",
   "metadata": {
    "slideshow": {
     "slide_type": "slide"
    }
   },
   "source": [
    "## How to handle type instability\n",
    "\n",
    "- Use `@code_warntype` to chase down type instabilities.\n",
    "- Use `zero(returntype)` to get correct zero for your type\n",
    "- With arrays, use `zeros(typeof(thing), n)`\n"
   ]
  },
  {
   "cell_type": "markdown",
   "id": "d5d586bb",
   "metadata": {
    "slideshow": {
     "slide_type": "slide"
    }
   },
   "source": [
    "## Traceur.jl\n",
    "\n",
    "A _really_ good tool to use is `Traceur`, a package which flags a bunch of common performance issues in Julia on your behalf. \n",
    "\n",
    "To use it, just call `@trace` right before your function call and it'll give you a detailed report.\n",
    "\n",
    "Install it with `] add Traceur` or `import Pkg; Pkg.add(\"Traceur\")`."
   ]
  },
  {
   "cell_type": "code",
   "execution_count": 17,
   "id": "9a4f975b",
   "metadata": {
    "slideshow": {
     "slide_type": "slide"
    }
   },
   "outputs": [
    {
     "name": "stderr",
     "output_type": "stream",
     "text": [
      "\u001b[32m\u001b[1m   Resolving\u001b[22m\u001b[39m package versions...\n",
      "\u001b[32m\u001b[1m  No Changes\u001b[22m\u001b[39m to `C:\\Users\\chadi\\OneDrive - Handelshögskolan i Stockholm\\GitHub\\julia-bootcamp-2022\\Project.toml`\n",
      "\u001b[32m\u001b[1m  No Changes\u001b[22m\u001b[39m to `C:\\Users\\chadi\\OneDrive - Handelshögskolan i Stockholm\\GitHub\\julia-bootcamp-2022\\Manifest.toml`\n",
      "\u001b[91m\u001b[1mERROR: \u001b[22m\u001b[39mLoadError: UndefVarError: `TypedSlot` not defined\n",
      "Stacktrace:\n",
      " [1] \u001b[0m\u001b[1mgetproperty\u001b[22m\u001b[0m\u001b[1m(\u001b[22m\u001b[90mx\u001b[39m::\u001b[0mModule, \u001b[90mf\u001b[39m::\u001b[0mSymbol\u001b[0m\u001b[1m)\u001b[22m\n",
      "\u001b[90m   @\u001b[39m \u001b[90mBase\u001b[39m \u001b[90m.\\\u001b[39m\u001b[90m\u001b[4mBase.jl:31\u001b[24m\u001b[39m\n",
      " [2] top-level scope\n",
      "\u001b[90m   @\u001b[39m \u001b[90mC:\\Users\\chadi\\.julia\\packages\\Traceur\\ajxdS\\src\\\u001b[39m\u001b[90m\u001b[4manalysis.jl:63\u001b[24m\u001b[39m\n",
      " [3] \u001b[0m\u001b[1minclude\u001b[22m\u001b[0m\u001b[1m(\u001b[22m\u001b[90mmod\u001b[39m::\u001b[0mModule, \u001b[90m_path\u001b[39m::\u001b[0mString\u001b[0m\u001b[1m)\u001b[22m\n",
      "\u001b[90m   @\u001b[39m \u001b[90mBase\u001b[39m \u001b[90m.\\\u001b[39m\u001b[90m\u001b[4mBase.jl:495\u001b[24m\u001b[39m\n",
      " [4] \u001b[0m\u001b[1minclude\u001b[22m\u001b[0m\u001b[1m(\u001b[22m\u001b[90mx\u001b[39m::\u001b[0mString\u001b[0m\u001b[1m)\u001b[22m\n",
      "\u001b[90m   @\u001b[39m \u001b[35mTraceur\u001b[39m \u001b[90mC:\\Users\\chadi\\.julia\\packages\\Traceur\\ajxdS\\src\\\u001b[39m\u001b[90m\u001b[4mTraceur.jl:1\u001b[24m\u001b[39m\n",
      " [5] top-level scope\n",
      "\u001b[90m   @\u001b[39m \u001b[90mC:\\Users\\chadi\\.julia\\packages\\Traceur\\ajxdS\\src\\\u001b[39m\u001b[90m\u001b[4mTraceur.jl:12\u001b[24m\u001b[39m\n",
      " [6] \u001b[0m\u001b[1minclude\u001b[22m\n",
      "\u001b[90m   @\u001b[39m \u001b[90m.\\\u001b[39m\u001b[90m\u001b[4mBase.jl:495\u001b[24m\u001b[39m\u001b[90m [inlined]\u001b[39m\n",
      " [7] \u001b[0m\u001b[1minclude_package_for_output\u001b[22m\u001b[0m\u001b[1m(\u001b[22m\u001b[90mpkg\u001b[39m::\u001b[0mBase.PkgId, \u001b[90minput\u001b[39m::\u001b[0mString, \u001b[90mdepot_path\u001b[39m::\u001b[0mVector\u001b[90m{String}\u001b[39m, \u001b[90mdl_load_path\u001b[39m::\u001b[0mVector\u001b[90m{String}\u001b[39m, \u001b[90mload_path\u001b[39m::\u001b[0mVector\u001b[90m{String}\u001b[39m, \u001b[90mconcrete_deps\u001b[39m::\u001b[0mVector\u001b[90m{Pair{Base.PkgId, UInt128}}\u001b[39m, \u001b[90msource\u001b[39m::\u001b[0mString\u001b[0m\u001b[1m)\u001b[22m\n",
      "\u001b[90m   @\u001b[39m \u001b[90mBase\u001b[39m \u001b[90m.\\\u001b[39m\u001b[90m\u001b[4mloading.jl:2222\u001b[24m\u001b[39m\n",
      " [8] top-level scope\n",
      "\u001b[90m   @\u001b[39m \u001b[90m\u001b[4mstdin:3\u001b[24m\u001b[39m\n",
      "in expression starting at C:\\Users\\chadi\\.julia\\packages\\Traceur\\ajxdS\\src\\analysis.jl:63\n",
      "in expression starting at C:\\Users\\chadi\\.julia\\packages\\Traceur\\ajxdS\\src\\Traceur.jl:1\n",
      "in expression starting at stdin:3\n"
     ]
    },
    {
     "ename": "ErrorException",
     "evalue": "Failed to precompile Traceur [37b6cedf-1f77-55f8-9503-c64b63398394] to \"C:\\\\Users\\\\chadi\\\\.julia\\\\compiled\\\\v1.10\\\\Traceur\\\\jl_28D3.tmp\".",
     "output_type": "error",
     "traceback": [
      "Failed to precompile Traceur [37b6cedf-1f77-55f8-9503-c64b63398394] to \"C:\\\\Users\\\\chadi\\\\.julia\\\\compiled\\\\v1.10\\\\Traceur\\\\jl_28D3.tmp\".\n",
      "\n",
      "Stacktrace:\n",
      "  [1] error(s::String)\n",
      "    @ Base .\\error.jl:35\n",
      "  [2] compilecache(pkg::Base.PkgId, path::String, internal_stderr::IO, internal_stdout::IO, keep_loaded_modules::Bool)\n",
      "    @ Base .\\loading.jl:2468\n",
      "  [3] compilecache\n",
      "    @ .\\loading.jl:2340 [inlined]\n",
      "  [4] (::Base.var\"#968#969\"{Base.PkgId})()\n",
      "    @ Base .\\loading.jl:1974\n",
      "  [5] mkpidlock(f::Base.var\"#968#969\"{Base.PkgId}, at::String, pid::Int32; kwopts::@Kwargs{stale_age::Int64, wait::Bool})\n",
      "    @ FileWatching.Pidfile C:\\Users\\chadi\\.julia\\juliaup\\julia-1.10.2+0.x64.w64.mingw32\\share\\julia\\stdlib\\v1.10\\FileWatching\\src\\pidfile.jl:93\n",
      "  [6] #mkpidlock#6\n",
      "    @ C:\\Users\\chadi\\.julia\\juliaup\\julia-1.10.2+0.x64.w64.mingw32\\share\\julia\\stdlib\\v1.10\\FileWatching\\src\\pidfile.jl:88 [inlined]\n",
      "  [7] trymkpidlock(::Function, ::Vararg{Any}; kwargs::@Kwargs{stale_age::Int64})\n",
      "    @ FileWatching.Pidfile C:\\Users\\chadi\\.julia\\juliaup\\julia-1.10.2+0.x64.w64.mingw32\\share\\julia\\stdlib\\v1.10\\FileWatching\\src\\pidfile.jl:111\n",
      "  [8] #invokelatest#2\n",
      "    @ .\\essentials.jl:894 [inlined]\n",
      "  [9] invokelatest\n",
      "    @ .\\essentials.jl:889 [inlined]\n",
      " [10] maybe_cachefile_lock(f::Base.var\"#968#969\"{Base.PkgId}, pkg::Base.PkgId, srcpath::String; stale_age::Int64)\n",
      "    @ Base .\\loading.jl:2983\n",
      " [11] maybe_cachefile_lock\n",
      "    @ .\\loading.jl:2980 [inlined]\n",
      " [12] _require(pkg::Base.PkgId, env::String)\n",
      "    @ Base .\\loading.jl:1970\n",
      " [13] __require_prelocked(uuidkey::Base.PkgId, env::String)\n",
      "    @ Base .\\loading.jl:1812\n",
      " [14] #invoke_in_world#3\n",
      "    @ .\\essentials.jl:926 [inlined]\n",
      " [15] invoke_in_world\n",
      "    @ .\\essentials.jl:923 [inlined]\n",
      " [16] _require_prelocked(uuidkey::Base.PkgId, env::String)\n",
      "    @ Base .\\loading.jl:1803\n",
      " [17] macro expansion\n",
      "    @ .\\loading.jl:1790 [inlined]\n",
      " [18] macro expansion\n",
      "    @ .\\lock.jl:267 [inlined]\n",
      " [19] __require(into::Module, mod::Symbol)\n",
      "    @ Base .\\loading.jl:1753\n",
      " [20] #invoke_in_world#3\n",
      "    @ .\\essentials.jl:926 [inlined]\n",
      " [21] invoke_in_world\n",
      "    @ .\\essentials.jl:923 [inlined]\n",
      " [22] require(into::Module, mod::Symbol)\n",
      "    @ Base .\\loading.jl:1746\n",
      " [23] eval\n",
      "    @ .\\boot.jl:385 [inlined]\n",
      " [24] include_string(mapexpr::typeof(REPL.softscope), mod::Module, code::String, filename::String)\n",
      "    @ Base .\\loading.jl:2076\n",
      " [25] #invokelatest#2\n",
      "    @ .\\essentials.jl:892 [inlined]\n",
      " [26] invokelatest\n",
      "    @ .\\essentials.jl:889 [inlined]\n",
      " [27] (::VSCodeServer.var\"#214#215\"{VSCodeServer.NotebookRunCellArguments, String})()\n",
      "    @ VSCodeServer c:\\Users\\chadi\\.vscode\\extensions\\julialang.language-julia-1.75.2\\scripts\\packages\\VSCodeServer\\src\\serve_notebook.jl:19\n",
      " [28] withpath(f::VSCodeServer.var\"#214#215\"{VSCodeServer.NotebookRunCellArguments, String}, path::String)\n",
      "    @ VSCodeServer c:\\Users\\chadi\\.vscode\\extensions\\julialang.language-julia-1.75.2\\scripts\\packages\\VSCodeServer\\src\\repl.jl:274\n",
      " [29] notebook_runcell_request(conn::VSCodeServer.JSONRPC.JSONRPCEndpoint{Base.PipeEndpoint, Base.PipeEndpoint}, params::VSCodeServer.NotebookRunCellArguments)\n",
      "    @ VSCodeServer c:\\Users\\chadi\\.vscode\\extensions\\julialang.language-julia-1.75.2\\scripts\\packages\\VSCodeServer\\src\\serve_notebook.jl:13\n",
      " [30] dispatch_msg(x::VSCodeServer.JSONRPC.JSONRPCEndpoint{Base.PipeEndpoint, Base.PipeEndpoint}, dispatcher::VSCodeServer.JSONRPC.MsgDispatcher, msg::Dict{String, Any})\n",
      "    @ VSCodeServer.JSONRPC c:\\Users\\chadi\\.vscode\\extensions\\julialang.language-julia-1.75.2\\scripts\\packages\\JSONRPC\\src\\typed.jl:67\n",
      " [31] serve_notebook(pipename::String, outputchannel_logger::Base.CoreLogging.SimpleLogger; crashreporting_pipename::String)\n",
      "    @ VSCodeServer c:\\Users\\chadi\\.vscode\\extensions\\julialang.language-julia-1.75.2\\scripts\\packages\\VSCodeServer\\src\\serve_notebook.jl:139\n",
      " [32] top-level scope\n",
      "    @ c:\\Users\\chadi\\.vscode\\extensions\\julialang.language-julia-1.75.2\\scripts\\notebook\\notebook.jl:35"
     ]
    }
   ],
   "source": [
    "using Traceur\n",
    "# Define a type unstable function\n",
    "me_badman(x) = x <= 5 ? convert(typeof(x), 5) : x\n",
    "# me_badman(x::T) where T = x <= 5 ? convert(T, 5) : x # Type stable\n",
    "@trace me_badman(5.0)"
   ]
  },
  {
   "cell_type": "markdown",
   "id": "937639fe",
   "metadata": {
    "slideshow": {
     "slide_type": "slide"
    }
   },
   "source": [
    "## Concrete typing of structs and arrays\n",
    "\n",
    "There are a bunch of super types that are intended to describe lots of types of variables. For example, the `String` `\"howdy partner\"` and the `Int` `12` are both of subtype `Any`.\n",
    "\n",
    "When we put them together in an array, the array has to have an element type that all elements are subtypes of."
   ]
  },
  {
   "cell_type": "code",
   "execution_count": 18,
   "id": "abaf7f02",
   "metadata": {
    "slideshow": {
     "slide_type": "slide"
    }
   },
   "outputs": [
    {
     "data": {
      "text/plain": [
       "3-element Vector{Any}:\n",
       " 12\n",
       "   \"howdy partner\"\n",
       "  3.9"
      ]
     },
     "metadata": {},
     "output_type": "display_data"
    }
   ],
   "source": [
    "# Create an array with lots of different types\n",
    "# Note that the element type here is Any!\n",
    "arr = [12, \"howdy partner\", 3.9]\n",
    "eltype(arr)\n",
    "arr"
   ]
  },
  {
   "cell_type": "markdown",
   "id": "31012e06",
   "metadata": {
    "slideshow": {
     "slide_type": "slide"
    }
   },
   "source": [
    "## Abstract typed arrays are bad\n",
    "\n",
    "Arrays that are not specifically typed can be _really inefficient_, because Julia has to allocate memory assuming you can put literally anything in them. \n",
    "\n",
    "If you tell it an array will _only_ hold `Float64`, it can assign 64-bit storage for each element inside it, and you benefit from all kinds of fancy math specializations."
   ]
  },
  {
   "cell_type": "code",
   "execution_count": 20,
   "id": "e9731ff0",
   "metadata": {
    "slideshow": {
     "slide_type": "slide"
    }
   },
   "outputs": [
    {
     "name": "stdout",
     "output_type": "stream",
     "text": [
      "  1.505695 seconds (54.27 M allocations: 828.781 MiB, 14.07% gc time)\n",
      "  0.000594 seconds (2 allocations: 703.172 KiB)\n"
     ]
    }
   ],
   "source": [
    "# Bad and slow array of `Real`s\n",
    "xs = randn(300, 300)\n",
    "matrix = Matrix{Real}(xs)\n",
    "@time matrix * matrix;\n",
    "\n",
    "# Good and fast array of Float64\n",
    "matrix = Matrix{Float64}(xs)\n",
    "@time matrix * matrix;"
   ]
  },
  {
   "cell_type": "markdown",
   "id": "9b837552",
   "metadata": {
    "slideshow": {
     "slide_type": "slide"
    }
   },
   "source": [
    "You might be thinking \n",
    "\n",
    "> Gosh Cameron, I'd never do this! I'm a top-notch code cowboy.\n",
    "\n",
    "and you _might_ be right. "
   ]
  },
  {
   "cell_type": "markdown",
   "id": "3f801f2e",
   "metadata": {
    "slideshow": {
     "slide_type": "slide"
    }
   },
   "source": [
    "However! I see this in others, and I often screw up and do this myself:\n",
    "\n",
    "```julia\n",
    "array = []\n",
    "\n",
    "for something in an_iterator\n",
    "    . . .\n",
    "    push!(array, nifty_function(something))\n",
    "end\n",
    "```\n",
    "\n",
    "What's wrong here?"
   ]
  },
  {
   "cell_type": "markdown",
   "id": "397ff5e9",
   "metadata": {
    "slideshow": {
     "slide_type": "slide"
    }
   },
   "source": [
    "![](https://c.tenor.com/m6GfTVTJqN8AAAAd/bad-bad-boy.gif)"
   ]
  },
  {
   "cell_type": "markdown",
   "id": "32e7c836",
   "metadata": {
    "slideshow": {
     "slide_type": "slide"
    }
   },
   "source": [
    "The type of the array defaults to `Any`, because I haven't provided any other information! \n",
    "\n",
    "If you know for a fact it's going to be of a certain type, type it ahead of time:\n",
    "\n",
    "```julia\n",
    "array = Float64[]\n",
    "```\n",
    "\n",
    "or if you don't know it's exactly `Float64` but you have something available you know is of the type you will be putting in the array, you can do\n",
    "\n",
    "```julia\n",
    "array = typeof(a_thing)[]\n",
    "```\n",
    "\n",
    "or, if you know the size, just preallocate the whole array with\n",
    "\n",
    "```julia\n",
    "array = Array{typeof(a_thing)}(undef, size_of_array)\n",
    "```"
   ]
  },
  {
   "cell_type": "code",
   "execution_count": 21,
   "id": "fc18827c",
   "metadata": {
    "slideshow": {
     "slide_type": "slide"
    }
   },
   "outputs": [
    {
     "name": "stdout",
     "output_type": "stream",
     "text": [
      "MethodInstance for do_stuff(::Float64)\n",
      "  from do_stuff(\u001b[90mx\u001b[39m)\u001b[90m @\u001b[39m \u001b[90mMain\u001b[39m \u001b[90mc:\\Users\\chadi\\OneDrive - Handelshögskolan i Stockholm\\GitHub\\julia-bootcamp-2022\\session-4\\\u001b[39m\u001b[90m\u001b[4mspeed-lecture.ipynb:2\u001b[24m\u001b[39m\n",
      "Arguments\n",
      "  #self#\u001b[36m::Core.Const(do_stuff)\u001b[39m\n",
      "  x\u001b[36m::Float64\u001b[39m\n",
      "Body\u001b[36m::@NamedTuple{x::Float64, sin_x::Float64, str_x::String}\u001b[39m\n",
      "\u001b[90m1 ─\u001b[39m %1 = (:x, :sin_x, :str_x)\u001b[36m::Core.Const((:x, :sin_x, :str_x))\u001b[39m\n",
      "\u001b[90m│  \u001b[39m %2 = Core.apply_type(Core.NamedTuple, %1)\u001b[36m::Core.Const(NamedTuple{(:x, :sin_x, :str_x)})\u001b[39m\n",
      "\u001b[90m│  \u001b[39m %3 = Main.sin(x)\u001b[36m::Float64\u001b[39m\n",
      "\u001b[90m│  \u001b[39m %4 = Main.string(x)\u001b[36m::String\u001b[39m\n",
      "\u001b[90m│  \u001b[39m %5 = Core.tuple(x, %3, %4)\u001b[36m::Tuple{Float64, Float64, String}\u001b[39m\n",
      "\u001b[90m│  \u001b[39m %6 = (%2)(%5)\u001b[36m::@NamedTuple{x::Float64, sin_x::Float64, str_x::String}\u001b[39m\n",
      "\u001b[90m└──\u001b[39m      return %6\n",
      "\n"
     ]
    },
    {
     "data": {
      "text/plain": [
       "@NamedTuple{x::Int64, sin_x::Float64, str_x::String}"
      ]
     },
     "metadata": {},
     "output_type": "display_data"
    }
   ],
   "source": [
    "# Let's see an example of how to operationalize this:\n",
    "do_stuff(x) = (x=x, sin_x=sin(x), str_x=string(x))\n",
    "@code_warntype do_stuff(1.0)\n",
    "typeof(do_stuff(1))\n"
   ]
  },
  {
   "cell_type": "code",
   "execution_count": 22,
   "id": "7bddbd77",
   "metadata": {
    "slideshow": {
     "slide_type": "slide"
    }
   },
   "outputs": [
    {
     "data": {
      "text/plain": [
       "good_arrays (generic function with 1 method)"
      ]
     },
     "metadata": {},
     "output_type": "display_data"
    }
   ],
   "source": [
    "function bad_arrays(xs)\n",
    "    arr = [] # Cameron, you are a badman!\n",
    "    for x in xs\n",
    "        push!(arr, do_stuff(x))\n",
    "    end\n",
    "    return mapreduce(nt -> nt.sin_x, +, arr)\n",
    "end\n",
    "\n",
    "function good_arrays(xs)\n",
    "    # Get the exact type of the thing you're going to store!\n",
    "    first_val = do_stuff(xs[1])\n",
    "    \n",
    "    # Now julia can infer the type of the array\n",
    "    arr = [first_val]\n",
    "    for x in xs[2:end]\n",
    "        push!(arr, do_stuff(x))\n",
    "    end\n",
    "    return mapreduce(nt -> nt.sin_x, +, arr)\n",
    "end"
   ]
  },
  {
   "cell_type": "code",
   "execution_count": 23,
   "id": "20c4c1f7",
   "metadata": {
    "slideshow": {
     "slide_type": "slide"
    }
   },
   "outputs": [
    {
     "data": {
      "text/plain": [
       "BenchmarkTools.Trial: 10000 samples with 1 evaluation.\n",
       " Range \u001b[90m(\u001b[39m\u001b[36m\u001b[1mmin\u001b[22m\u001b[39m … \u001b[35mmax\u001b[39m\u001b[90m):  \u001b[39m\u001b[36m\u001b[1m12.700 μs\u001b[22m\u001b[39m … \u001b[35m  6.459 ms\u001b[39m  \u001b[90m┊\u001b[39m GC \u001b[90m(\u001b[39mmin … max\u001b[90m): \u001b[39m 0.00% … 98.61%\n",
       " Time  \u001b[90m(\u001b[39m\u001b[34m\u001b[1mmedian\u001b[22m\u001b[39m\u001b[90m):     \u001b[39m\u001b[34m\u001b[1m15.300 μs               \u001b[22m\u001b[39m\u001b[90m┊\u001b[39m GC \u001b[90m(\u001b[39mmedian\u001b[90m):    \u001b[39m 0.00%\n",
       " Time  \u001b[90m(\u001b[39m\u001b[32m\u001b[1mmean\u001b[22m\u001b[39m ± \u001b[32mσ\u001b[39m\u001b[90m):   \u001b[39m\u001b[32m\u001b[1m20.793 μs\u001b[22m\u001b[39m ± \u001b[32m122.266 μs\u001b[39m  \u001b[90m┊\u001b[39m GC \u001b[90m(\u001b[39mmean ± σ\u001b[90m):  \u001b[39m15.35% ±  2.78%\n",
       "\n",
       "  \u001b[39m \u001b[39m \u001b[39m▃\u001b[39m▇\u001b[39m█\u001b[39m█\u001b[34m▇\u001b[39m\u001b[39m▆\u001b[39m▅\u001b[39m▄\u001b[39m▃\u001b[39m▃\u001b[39m▂\u001b[39m▂\u001b[39m▂\u001b[39m▂\u001b[39m▁\u001b[39m▁\u001b[39m▁\u001b[32m▂\u001b[39m\u001b[39m▁\u001b[39m▁\u001b[39m▁\u001b[39m▂\u001b[39m▁\u001b[39m▁\u001b[39m▁\u001b[39m▂\u001b[39m▁\u001b[39m▁\u001b[39m \u001b[39m▁\u001b[39m▁\u001b[39m▁\u001b[39m▁\u001b[39m▁\u001b[39m▁\u001b[39m \u001b[39m \u001b[39m▁\u001b[39m \u001b[39m \u001b[39m \u001b[39m \u001b[39m \u001b[39m \u001b[39m \u001b[39m \u001b[39m \u001b[39m \u001b[39m \u001b[39m \u001b[39m \u001b[39m \u001b[39m \u001b[39m \u001b[39m \u001b[39m \u001b[39m \u001b[39m \u001b[39m \u001b[39m▂\n",
       "  \u001b[39m▅\u001b[39m▅\u001b[39m█\u001b[39m█\u001b[39m█\u001b[39m█\u001b[34m█\u001b[39m\u001b[39m█\u001b[39m█\u001b[39m█\u001b[39m█\u001b[39m█\u001b[39m█\u001b[39m█\u001b[39m█\u001b[39m█\u001b[39m█\u001b[39m█\u001b[39m█\u001b[32m█\u001b[39m\u001b[39m█\u001b[39m█\u001b[39m█\u001b[39m█\u001b[39m█\u001b[39m█\u001b[39m█\u001b[39m█\u001b[39m█\u001b[39m█\u001b[39m█\u001b[39m█\u001b[39m█\u001b[39m█\u001b[39m█\u001b[39m█\u001b[39m█\u001b[39m█\u001b[39m█\u001b[39m█\u001b[39m█\u001b[39m█\u001b[39m█\u001b[39m█\u001b[39m█\u001b[39m▇\u001b[39m▇\u001b[39m▆\u001b[39m▇\u001b[39m▇\u001b[39m▇\u001b[39m▇\u001b[39m▇\u001b[39m▆\u001b[39m▆\u001b[39m▆\u001b[39m▆\u001b[39m▅\u001b[39m▆\u001b[39m▆\u001b[39m \u001b[39m█\n",
       "  12.7 μs\u001b[90m       \u001b[39m\u001b[90mHistogram: \u001b[39m\u001b[90m\u001b[1mlog(\u001b[22m\u001b[39m\u001b[90mfrequency\u001b[39m\u001b[90m\u001b[1m)\u001b[22m\u001b[39m\u001b[90m by time\u001b[39m      38.2 μs \u001b[0m\u001b[1m<\u001b[22m\n",
       "\n",
       " Memory estimate\u001b[90m: \u001b[39m\u001b[33m50.33 KiB\u001b[39m, allocs estimate\u001b[90m: \u001b[39m\u001b[33m503\u001b[39m."
      ]
     },
     "metadata": {},
     "output_type": "display_data"
    },
    {
     "data": {
      "text/plain": [
       "BenchmarkTools.Trial: 10000 samples with 1 evaluation.\n",
       " Range \u001b[90m(\u001b[39m\u001b[36m\u001b[1mmin\u001b[22m\u001b[39m … \u001b[35mmax\u001b[39m\u001b[90m):  \u001b[39m\u001b[36m\u001b[1m 8.800 μs\u001b[22m\u001b[39m … \u001b[35m 3.818 ms\u001b[39m  \u001b[90m┊\u001b[39m GC \u001b[90m(\u001b[39mmin … max\u001b[90m): \u001b[39m 0.00% … 98.38%\n",
       " Time  \u001b[90m(\u001b[39m\u001b[34m\u001b[1mmedian\u001b[22m\u001b[39m\u001b[90m):     \u001b[39m\u001b[34m\u001b[1m10.500 μs              \u001b[22m\u001b[39m\u001b[90m┊\u001b[39m GC \u001b[90m(\u001b[39mmedian\u001b[90m):    \u001b[39m 0.00%\n",
       " Time  \u001b[90m(\u001b[39m\u001b[32m\u001b[1mmean\u001b[22m\u001b[39m ± \u001b[32mσ\u001b[39m\u001b[90m):   \u001b[39m\u001b[32m\u001b[1m14.738 μs\u001b[22m\u001b[39m ± \u001b[32m73.736 μs\u001b[39m  \u001b[90m┊\u001b[39m GC \u001b[90m(\u001b[39mmean ± σ\u001b[90m):  \u001b[39m13.29% ±  2.76%\n",
       "\n",
       "  \u001b[39m▁\u001b[39m▅\u001b[39m█\u001b[39m█\u001b[34m▇\u001b[39m\u001b[39m▅\u001b[39m▄\u001b[39m▄\u001b[39m▂\u001b[39m▃\u001b[39m▂\u001b[39m▂\u001b[39m▂\u001b[32m▁\u001b[39m\u001b[39m▁\u001b[39m▁\u001b[39m▁\u001b[39m \u001b[39m \u001b[39m \u001b[39m \u001b[39m▁\u001b[39m \u001b[39m▁\u001b[39m \u001b[39m \u001b[39m \u001b[39m \u001b[39m \u001b[39m \u001b[39m \u001b[39m \u001b[39m \u001b[39m▁\u001b[39m \u001b[39m▁\u001b[39m▁\u001b[39m▁\u001b[39m \u001b[39m \u001b[39m▁\u001b[39m \u001b[39m \u001b[39m \u001b[39m \u001b[39m \u001b[39m \u001b[39m \u001b[39m \u001b[39m \u001b[39m \u001b[39m \u001b[39m \u001b[39m \u001b[39m \u001b[39m \u001b[39m \u001b[39m \u001b[39m \u001b[39m \u001b[39m▂\n",
       "  \u001b[39m█\u001b[39m█\u001b[39m█\u001b[39m█\u001b[34m█\u001b[39m\u001b[39m█\u001b[39m█\u001b[39m█\u001b[39m█\u001b[39m█\u001b[39m█\u001b[39m█\u001b[39m█\u001b[32m█\u001b[39m\u001b[39m█\u001b[39m█\u001b[39m█\u001b[39m█\u001b[39m█\u001b[39m█\u001b[39m█\u001b[39m█\u001b[39m█\u001b[39m█\u001b[39m█\u001b[39m█\u001b[39m█\u001b[39m▇\u001b[39m█\u001b[39m▆\u001b[39m▇\u001b[39m█\u001b[39m█\u001b[39m█\u001b[39m█\u001b[39m█\u001b[39m█\u001b[39m█\u001b[39m█\u001b[39m█\u001b[39m█\u001b[39m█\u001b[39m█\u001b[39m█\u001b[39m█\u001b[39m▇\u001b[39m▇\u001b[39m▇\u001b[39m▇\u001b[39m▇\u001b[39m▆\u001b[39m▆\u001b[39m▅\u001b[39m▄\u001b[39m▅\u001b[39m▅\u001b[39m▅\u001b[39m▄\u001b[39m▄\u001b[39m \u001b[39m█\n",
       "  8.8 μs\u001b[90m       \u001b[39m\u001b[90mHistogram: \u001b[39m\u001b[90m\u001b[1mlog(\u001b[22m\u001b[39m\u001b[90mfrequency\u001b[39m\u001b[90m\u001b[1m)\u001b[22m\u001b[39m\u001b[90m by time\u001b[39m      34.9 μs \u001b[0m\u001b[1m<\u001b[22m\n",
       "\n",
       " Memory estimate\u001b[90m: \u001b[39m\u001b[33m48.52 KiB\u001b[39m, allocs estimate\u001b[90m: \u001b[39m\u001b[33m205\u001b[39m."
      ]
     },
     "metadata": {},
     "output_type": "display_data"
    }
   ],
   "source": [
    "xs = randn(100)\n",
    "b1 = @benchmark bad_arrays($xs)\n",
    "b2 = @benchmark good_arrays($xs)\n",
    "\n",
    "display(b1)\n",
    "display(b2)"
   ]
  },
  {
   "cell_type": "code",
   "execution_count": 24,
   "id": "ef2bcf24",
   "metadata": {
    "slideshow": {
     "slide_type": "slide"
    }
   },
   "outputs": [
    {
     "data": {
      "text/plain": [
       "BenchmarkTools.Trial: 10000 samples with 1 evaluation.\n",
       " Range \u001b[90m(\u001b[39m\u001b[36m\u001b[1mmin\u001b[22m\u001b[39m … \u001b[35mmax\u001b[39m\u001b[90m):  \u001b[39m\u001b[36m\u001b[1m 7.900 μs\u001b[22m\u001b[39m … \u001b[35m 4.125 ms\u001b[39m  \u001b[90m┊\u001b[39m GC \u001b[90m(\u001b[39mmin … max\u001b[90m): \u001b[39m 0.00% … 98.59%\n",
       " Time  \u001b[90m(\u001b[39m\u001b[34m\u001b[1mmedian\u001b[22m\u001b[39m\u001b[90m):     \u001b[39m\u001b[34m\u001b[1m10.100 μs              \u001b[22m\u001b[39m\u001b[90m┊\u001b[39m GC \u001b[90m(\u001b[39mmedian\u001b[90m):    \u001b[39m 0.00%\n",
       " Time  \u001b[90m(\u001b[39m\u001b[32m\u001b[1mmean\u001b[22m\u001b[39m ± \u001b[32mσ\u001b[39m\u001b[90m):   \u001b[39m\u001b[32m\u001b[1m15.752 μs\u001b[22m\u001b[39m ± \u001b[32m73.745 μs\u001b[39m  \u001b[90m┊\u001b[39m GC \u001b[90m(\u001b[39mmean ± σ\u001b[90m):  \u001b[39m11.79% ±  2.59%\n",
       "\n",
       "  \u001b[39m \u001b[39m▄\u001b[39m█\u001b[34m▇\u001b[39m\u001b[39m▅\u001b[39m▃\u001b[39m▃\u001b[39m▂\u001b[39m▂\u001b[39m▂\u001b[39m▂\u001b[39m▂\u001b[32m▂\u001b[39m\u001b[39m▁\u001b[39m▁\u001b[39m▁\u001b[39m▁\u001b[39m \u001b[39m \u001b[39m \u001b[39m \u001b[39m▂\u001b[39m▃\u001b[39m▂\u001b[39m▃\u001b[39m▂\u001b[39m▁\u001b[39m▁\u001b[39m▁\u001b[39m▁\u001b[39m \u001b[39m \u001b[39m \u001b[39m \u001b[39m \u001b[39m \u001b[39m \u001b[39m \u001b[39m \u001b[39m \u001b[39m \u001b[39m \u001b[39m \u001b[39m \u001b[39m \u001b[39m \u001b[39m \u001b[39m \u001b[39m \u001b[39m \u001b[39m \u001b[39m \u001b[39m \u001b[39m \u001b[39m \u001b[39m \u001b[39m \u001b[39m \u001b[39m \u001b[39m \u001b[39m▂\n",
       "  \u001b[39m▆\u001b[39m█\u001b[39m█\u001b[34m█\u001b[39m\u001b[39m█\u001b[39m█\u001b[39m█\u001b[39m█\u001b[39m█\u001b[39m█\u001b[39m█\u001b[39m█\u001b[32m█\u001b[39m\u001b[39m█\u001b[39m█\u001b[39m█\u001b[39m█\u001b[39m█\u001b[39m█\u001b[39m█\u001b[39m█\u001b[39m█\u001b[39m█\u001b[39m█\u001b[39m█\u001b[39m█\u001b[39m█\u001b[39m█\u001b[39m█\u001b[39m█\u001b[39m█\u001b[39m█\u001b[39m█\u001b[39m▇\u001b[39m▇\u001b[39m▆\u001b[39m▆\u001b[39m▆\u001b[39m▆\u001b[39m▇\u001b[39m▆\u001b[39m▇\u001b[39m▇\u001b[39m▆\u001b[39m▆\u001b[39m▅\u001b[39m▆\u001b[39m▆\u001b[39m▆\u001b[39m▅\u001b[39m▅\u001b[39m▅\u001b[39m▅\u001b[39m▅\u001b[39m▅\u001b[39m▄\u001b[39m▅\u001b[39m▅\u001b[39m▅\u001b[39m \u001b[39m█\n",
       "  7.9 μs\u001b[90m       \u001b[39m\u001b[90mHistogram: \u001b[39m\u001b[90m\u001b[1mlog(\u001b[22m\u001b[39m\u001b[90mfrequency\u001b[39m\u001b[90m\u001b[1m)\u001b[22m\u001b[39m\u001b[90m by time\u001b[39m      46.2 μs \u001b[0m\u001b[1m<\u001b[22m\n",
       "\n",
       " Memory estimate\u001b[90m: \u001b[39m\u001b[33m44.70 KiB\u001b[39m, allocs estimate\u001b[90m: \u001b[39m\u001b[33m202\u001b[39m."
      ]
     },
     "metadata": {},
     "output_type": "display_data"
    }
   ],
   "source": [
    "function gooder_arrays(xs)\n",
    "    # Get the exact type of the thing you're going to store!\n",
    "    first_val = do_stuff(xs[1])\n",
    "    \n",
    "    # Now julia can infer the type of the array\n",
    "    arr = Array{typeof(first_val)}(undef, length(xs))\n",
    "    arr[1] = first_val\n",
    "    \n",
    "    for i in 2:length(xs)\n",
    "        arr[i] = do_stuff(xs[i])\n",
    "    end\n",
    "    \n",
    "    return mapreduce(nt -> nt.sin_x, +, arr)\n",
    "end\n",
    "\n",
    "@benchmark gooder_arrays(xs)"
   ]
  },
  {
   "cell_type": "code",
   "execution_count": 60,
   "id": "15ca45c8",
   "metadata": {
    "slideshow": {
     "slide_type": "slide"
    }
   },
   "outputs": [
    {
     "data": {
      "text/plain": [
       "BenchmarkTools.Trial: 10000 samples with 1 evaluation.\n",
       " Range \u001b[90m(\u001b[39m\u001b[36m\u001b[1mmin\u001b[22m\u001b[39m … \u001b[35mmax\u001b[39m\u001b[90m):  \u001b[39m\u001b[36m\u001b[1m12.260 μs\u001b[22m\u001b[39m … \u001b[35m 2.547 ms\u001b[39m  \u001b[90m┊\u001b[39m GC \u001b[90m(\u001b[39mmin … max\u001b[90m): \u001b[39m 0.00% … 98.81%\n",
       " Time  \u001b[90m(\u001b[39m\u001b[34m\u001b[1mmedian\u001b[22m\u001b[39m\u001b[90m):     \u001b[39m\u001b[34m\u001b[1m13.976 μs              \u001b[22m\u001b[39m\u001b[90m┊\u001b[39m GC \u001b[90m(\u001b[39mmedian\u001b[90m):    \u001b[39m 0.00%\n",
       " Time  \u001b[90m(\u001b[39m\u001b[32m\u001b[1mmean\u001b[22m\u001b[39m ± \u001b[32mσ\u001b[39m\u001b[90m):   \u001b[39m\u001b[32m\u001b[1m18.424 μs\u001b[22m\u001b[39m ± \u001b[32m77.355 μs\u001b[39m  \u001b[90m┊\u001b[39m GC \u001b[90m(\u001b[39mmean ± σ\u001b[90m):  \u001b[39m13.19% ±  3.13%\n",
       "\n",
       "  \u001b[39m▁\u001b[39m▅\u001b[39m▇\u001b[39m█\u001b[34m█\u001b[39m\u001b[39m▇\u001b[39m▄\u001b[39m▁\u001b[39m \u001b[39m \u001b[39m \u001b[39m \u001b[39m \u001b[39m \u001b[39m \u001b[32m \u001b[39m\u001b[39m \u001b[39m \u001b[39m \u001b[39m \u001b[39m \u001b[39m \u001b[39m \u001b[39m \u001b[39m \u001b[39m \u001b[39m \u001b[39m \u001b[39m \u001b[39m \u001b[39m \u001b[39m \u001b[39m \u001b[39m \u001b[39m \u001b[39m▁\u001b[39m▂\u001b[39m▁\u001b[39m▂\u001b[39m▂\u001b[39m▁\u001b[39m▁\u001b[39m \u001b[39m \u001b[39m \u001b[39m \u001b[39m \u001b[39m \u001b[39m \u001b[39m \u001b[39m \u001b[39m \u001b[39m \u001b[39m \u001b[39m \u001b[39m \u001b[39m \u001b[39m \u001b[39m \u001b[39m \u001b[39m▂\n",
       "  \u001b[39m█\u001b[39m█\u001b[39m█\u001b[39m█\u001b[34m█\u001b[39m\u001b[39m█\u001b[39m█\u001b[39m█\u001b[39m▇\u001b[39m▄\u001b[39m▅\u001b[39m▆\u001b[39m▅\u001b[39m▅\u001b[39m▆\u001b[32m▆\u001b[39m\u001b[39m▆\u001b[39m▆\u001b[39m▆\u001b[39m▇\u001b[39m▆\u001b[39m▇\u001b[39m▇\u001b[39m▆\u001b[39m▇\u001b[39m▇\u001b[39m▆\u001b[39m▆\u001b[39m▆\u001b[39m▆\u001b[39m▆\u001b[39m▆\u001b[39m▆\u001b[39m█\u001b[39m█\u001b[39m█\u001b[39m█\u001b[39m█\u001b[39m█\u001b[39m█\u001b[39m█\u001b[39m█\u001b[39m█\u001b[39m█\u001b[39m▇\u001b[39m█\u001b[39m▇\u001b[39m█\u001b[39m▇\u001b[39m▇\u001b[39m▇\u001b[39m▇\u001b[39m▇\u001b[39m▇\u001b[39m▆\u001b[39m▇\u001b[39m▆\u001b[39m▆\u001b[39m▆\u001b[39m \u001b[39m█\n",
       "  12.3 μs\u001b[90m      \u001b[39m\u001b[90mHistogram: \u001b[39m\u001b[90m\u001b[1mlog(\u001b[22m\u001b[39m\u001b[90mfrequency\u001b[39m\u001b[90m\u001b[1m)\u001b[22m\u001b[39m\u001b[90m by time\u001b[39m      36.6 μs \u001b[0m\u001b[1m<\u001b[22m\n",
       "\n",
       " Memory estimate\u001b[90m: \u001b[39m\u001b[33m44.70 KiB\u001b[39m, allocs estimate\u001b[90m: \u001b[39m\u001b[33m202\u001b[39m."
      ]
     },
     "execution_count": 60,
     "metadata": {},
     "output_type": "execute_result"
    }
   ],
   "source": [
    "function best_arrays(xs)\n",
    "    # map can handle all the typing information on our behalf!\n",
    "    arr = map(do_stuff, xs)\n",
    "    return mapreduce(nt -> nt.sin_x, +, arr)\n",
    "end\n",
    "\n",
    "@benchmark best_arrays(xs)"
   ]
  },
  {
   "cell_type": "markdown",
   "id": "8f793de8",
   "metadata": {
    "slideshow": {
     "slide_type": "slide"
    }
   },
   "source": [
    "## Abstract types and structs\n",
    "\n",
    "We'll often have structs we write to contain results, set model configurations, etc. "
   ]
  },
  {
   "cell_type": "code",
   "execution_count": 25,
   "id": "79909886",
   "metadata": {},
   "outputs": [],
   "source": [
    "struct StructWithField\n",
    "    a::Float64 # Could be Float32!\n",
    "    b::Int\n",
    "    c::String\n",
    "end"
   ]
  },
  {
   "cell_type": "markdown",
   "id": "c45d67b9",
   "metadata": {
    "slideshow": {
     "slide_type": "slide"
    }
   },
   "source": [
    "Sometimes we don't know ahead of time what the type is going to be, or we are too lazy to type them. What people do in these cases is something like"
   ]
  },
  {
   "cell_type": "code",
   "execution_count": 26,
   "id": "b3c113b4",
   "metadata": {},
   "outputs": [],
   "source": [
    "struct BadlyTypedStruct\n",
    "    a::Real\n",
    "    b::Integer # Integer is an abstract type for Int\n",
    "    c::Any\n",
    "    d # Leaving this blank means ::Any\n",
    "end"
   ]
  },
  {
   "cell_type": "markdown",
   "id": "0546c725",
   "metadata": {
    "slideshow": {
     "slide_type": "slide"
    }
   },
   "source": [
    "These structs end up being slow and clunky for the same reason that non-concrete arrays are slow.\n",
    "\n",
    "The solution? Parametric typing!"
   ]
  },
  {
   "cell_type": "markdown",
   "id": "c1308837",
   "metadata": {
    "slideshow": {
     "slide_type": "slide"
    }
   },
   "source": [
    "## Parametric types\n",
    "\n",
    "Parametric types are a way of saying \"I know I want this struct to be typed, but I don't know it yet\"."
   ]
  },
  {
   "cell_type": "markdown",
   "id": "b5eefc51",
   "metadata": {
    "slideshow": {
     "slide_type": "slide"
    }
   },
   "source": [
    "The way we do this in Julia is to write\n",
    "\n",
    "```julia\n",
    "struct TypeName{TypeVariable}\n",
    "    field::TypeVariable\n",
    "end\n",
    "```\n",
    "\n",
    "When we construct `TypeName` and give it an input, it will set the type `TypeVariable` to be whatever we put in `field`, which makes `TypeName` stable & concrete (provided the input is concretely typed)."
   ]
  },
  {
   "cell_type": "code",
   "execution_count": 28,
   "id": "28821131",
   "metadata": {
    "slideshow": {
     "slide_type": "slide"
    }
   },
   "outputs": [
    {
     "data": {
      "text/plain": [
       "ParametricStruct{Float64, Int64, Vector{Float64}}(1.0, 3, [-0.5780491837364108, -0.131209142651613, 0.9838959366609112, 0.6061788295565576, -0.07244869118094233, -0.9378253483770776, -1.2458134555472182, -1.5268783034082156, 0.1398042246776946, 0.6408335803764983], 19.0)"
      ]
     },
     "metadata": {},
     "output_type": "display_data"
    }
   ],
   "source": [
    "struct ParametricStruct{A<:Real,B<:Integer,C}\n",
    "    field_one::A \n",
    "    field_two::B\n",
    "    field_three::C\n",
    "    field_four::A # Note that this re-uses the parametric type A\n",
    "end\n",
    "\n",
    "ParametricStruct(1.0, 3, randn(10), 19.0)"
   ]
  },
  {
   "cell_type": "markdown",
   "id": "919fb78e",
   "metadata": {
    "slideshow": {
     "slide_type": "slide"
    }
   },
   "source": [
    "The performance gains from parametrically typed structs are similar to those from allowing type stability, so I won't replicate them here. \n",
    "\n",
    "But in general, __don't use abstract types in field definitions__. \n",
    "\n",
    "Either parametrically type them or statically type them (i.e. `Float64`)."
   ]
  },
  {
   "cell_type": "markdown",
   "id": "a3a8ddad",
   "metadata": {
    "slideshow": {
     "slide_type": "slide"
    }
   },
   "source": [
    "## Don't change the types of things during runtime\n",
    "\n",
    "If you assign a variable a value, try to change that variable only to other values of the same type. I.e. don't do stuff like:"
   ]
  },
  {
   "cell_type": "code",
   "execution_count": 29,
   "id": "f342f573",
   "metadata": {
    "slideshow": {
     "slide_type": "slide"
    }
   },
   "outputs": [
    {
     "data": {
      "text/plain": [
       "\"0.22290563391680848-0.4901813476160802\""
      ]
     },
     "metadata": {},
     "output_type": "display_data"
    }
   ],
   "source": [
    "function type_changer()\n",
    "    x = \"hello\" # Start as a string\n",
    "    for i in 1:10\n",
    "        random_draw = randn()\n",
    "        if random_draw >= 0\n",
    "            # Changes x to an Float64!\n",
    "            x = random_draw\n",
    "        else\n",
    "            # Add the new value as a string to the end of x\n",
    "            x = string(x, random_draw)\n",
    "        end\n",
    "    end\n",
    "    return x\n",
    "end\n",
    "type_changer()"
   ]
  },
  {
   "cell_type": "code",
   "execution_count": 3,
   "id": "4082a166",
   "metadata": {
    "slideshow": {
     "slide_type": "slide"
    }
   },
   "outputs": [
    {
     "name": "stdout",
     "output_type": "stream",
     "text": [
      "MethodInstance for type_changer()\n",
      "  from type_changer() in Main at In[2]:1\n",
      "Arguments\n",
      "  #self#\u001b[36m::Core.Const(type_changer)\u001b[39m\n",
      "Locals\n",
      "  @_2\u001b[33m\u001b[1m::Union{Nothing, Tuple{Int64, Int64}}\u001b[22m\u001b[39m\n",
      "  x\u001b[91m\u001b[1m::Union{Float64, String}\u001b[22m\u001b[39m\n",
      "  i\u001b[36m::Int64\u001b[39m\n",
      "  random_draw\u001b[36m::Float64\u001b[39m\n",
      "Body\u001b[91m\u001b[1m::Union{Float64, String}\u001b[22m\u001b[39m\n",
      "\u001b[90m1 ─\u001b[39m       (x = \"hello\")\n",
      "\u001b[90m│  \u001b[39m %2  = (1:10)\u001b[36m::Core.Const(1:10)\u001b[39m\n",
      "\u001b[90m│  \u001b[39m       (@_2 = Base.iterate(%2))\n",
      "\u001b[90m│  \u001b[39m %4  = (@_2::Core.Const((1, 1)) === nothing)\u001b[36m::Core.Const(false)\u001b[39m\n",
      "\u001b[90m│  \u001b[39m %5  = Base.not_int(%4)\u001b[36m::Core.Const(true)\u001b[39m\n",
      "\u001b[90m└──\u001b[39m       goto #7 if not %5\n",
      "\u001b[90m2 ┄\u001b[39m %7  = @_2\u001b[36m::Tuple{Int64, Int64}\u001b[39m\n",
      "\u001b[90m│  \u001b[39m       (i = Core.getfield(%7, 1))\n",
      "\u001b[90m│  \u001b[39m %9  = Core.getfield(%7, 2)\u001b[36m::Int64\u001b[39m\n",
      "\u001b[90m│  \u001b[39m       (random_draw = Main.randn())\n",
      "\u001b[90m│  \u001b[39m %11 = (random_draw >= 0)\u001b[36m::Bool\u001b[39m\n",
      "\u001b[90m└──\u001b[39m       goto #4 if not %11\n",
      "\u001b[90m3 ─\u001b[39m       (x = random_draw)\n",
      "\u001b[90m└──\u001b[39m       goto #5\n",
      "\u001b[90m4 ─\u001b[39m       (x = Main.string(x, random_draw))\n",
      "\u001b[90m5 ┄\u001b[39m       (@_2 = Base.iterate(%2, %9))\n",
      "\u001b[90m│  \u001b[39m %17 = (@_2 === nothing)\u001b[36m::Bool\u001b[39m\n",
      "\u001b[90m│  \u001b[39m %18 = Base.not_int(%17)\u001b[36m::Bool\u001b[39m\n",
      "\u001b[90m└──\u001b[39m       goto #7 if not %18\n",
      "\u001b[90m6 ─\u001b[39m       goto #2\n",
      "\u001b[90m7 ┄\u001b[39m       return x\n",
      "\n"
     ]
    }
   ],
   "source": [
    "@code_warntype type_changer()"
   ]
  },
  {
   "cell_type": "code",
   "execution_count": 30,
   "id": "187e9935",
   "metadata": {
    "slideshow": {
     "slide_type": "slide"
    }
   },
   "outputs": [
    {
     "ename": "LoadError",
     "evalue": "LoadError: UndefVarError: `@trace` not defined\nin expression starting at c:\\Users\\chadi\\OneDrive - Handelshögskolan i Stockholm\\GitHub\\julia-bootcamp-2022\\session-4\\speed-lecture.ipynb:2",
     "output_type": "error",
     "traceback": [
      "LoadError: UndefVarError: `@trace` not defined\n",
      "in expression starting at c:\\Users\\chadi\\OneDrive - Handelshögskolan i Stockholm\\GitHub\\julia-bootcamp-2022\\session-4\\speed-lecture.ipynb:2\n"
     ]
    }
   ],
   "source": [
    "# Or, using Traceur:\n",
    "@trace type_changer()"
   ]
  },
  {
   "cell_type": "markdown",
   "id": "7797fbbb",
   "metadata": {
    "slideshow": {
     "slide_type": "slide"
    }
   },
   "source": [
    "## Break up big functions into multiple smaller functions\n",
    "\n",
    "When you add more functions, Julia is able to specialize each function better. You get lots of free speed (and remove roadblocks for yourself) when you can let the compiler be smart for you.\n",
    "\n",
    "It's also considered good form! It's much easier to debug one small component function than a gigantic super function."
   ]
  },
  {
   "cell_type": "code",
   "execution_count": 31,
   "id": "3a8fff60",
   "metadata": {
    "slideshow": {
     "slide_type": "slide"
    }
   },
   "outputs": [
    {
     "data": {
      "text/plain": [
       "fill_random (generic function with 1 method)"
      ]
     },
     "metadata": {},
     "output_type": "display_data"
    }
   ],
   "source": [
    "function fill_random(n)\n",
    "    v = rand(Bool) ? Vector{Float64}(undef, n) : Vector{Int}(undef, n)\n",
    "    for i in 1:n\n",
    "        v[i] = rand(eltype(v))\n",
    "    end\n",
    "    return v\n",
    "end\n",
    "# @code_warntype fill_random(100)"
   ]
  },
  {
   "cell_type": "code",
   "execution_count": 32,
   "id": "ee589943",
   "metadata": {
    "slideshow": {
     "slide_type": "slide"
    }
   },
   "outputs": [
    {
     "data": {
      "text/plain": [
       "BenchmarkTools.Trial: 10000 samples with 10 evaluations.\n",
       " Range \u001b[90m(\u001b[39m\u001b[36m\u001b[1mmin\u001b[22m\u001b[39m … \u001b[35mmax\u001b[39m\u001b[90m):  \u001b[39m\u001b[36m\u001b[1m1.090 μs\u001b[22m\u001b[39m … \u001b[35m367.050 μs\u001b[39m  \u001b[90m┊\u001b[39m GC \u001b[90m(\u001b[39mmin … max\u001b[90m): \u001b[39m 0.00% … 98.88%\n",
       " Time  \u001b[90m(\u001b[39m\u001b[34m\u001b[1mmedian\u001b[22m\u001b[39m\u001b[90m):     \u001b[39m\u001b[34m\u001b[1m1.380 μs               \u001b[22m\u001b[39m\u001b[90m┊\u001b[39m GC \u001b[90m(\u001b[39mmedian\u001b[90m):    \u001b[39m 0.00%\n",
       " Time  \u001b[90m(\u001b[39m\u001b[32m\u001b[1mmean\u001b[22m\u001b[39m ± \u001b[32mσ\u001b[39m\u001b[90m):   \u001b[39m\u001b[32m\u001b[1m2.178 μs\u001b[22m\u001b[39m ± \u001b[32m 10.252 μs\u001b[39m  \u001b[90m┊\u001b[39m GC \u001b[90m(\u001b[39mmean ± σ\u001b[90m):  \u001b[39m15.84% ±  3.40%\n",
       "\n",
       "  \u001b[39m▇\u001b[39m█\u001b[34m▆\u001b[39m\u001b[39m▅\u001b[39m▆\u001b[39m▆\u001b[39m▅\u001b[39m▄\u001b[39m▃\u001b[32m▂\u001b[39m\u001b[39m▂\u001b[39m▄\u001b[39m▄\u001b[39m▃\u001b[39m▂\u001b[39m▁\u001b[39m \u001b[39m \u001b[39m \u001b[39m \u001b[39m \u001b[39m \u001b[39m \u001b[39m \u001b[39m \u001b[39m \u001b[39m \u001b[39m \u001b[39m \u001b[39m \u001b[39m \u001b[39m \u001b[39m \u001b[39m \u001b[39m \u001b[39m \u001b[39m \u001b[39m \u001b[39m \u001b[39m \u001b[39m \u001b[39m \u001b[39m \u001b[39m \u001b[39m \u001b[39m \u001b[39m \u001b[39m \u001b[39m \u001b[39m \u001b[39m \u001b[39m \u001b[39m \u001b[39m \u001b[39m▁\u001b[39m \u001b[39m \u001b[39m \u001b[39m \u001b[39m \u001b[39m▂\n",
       "  \u001b[39m█\u001b[39m█\u001b[34m█\u001b[39m\u001b[39m█\u001b[39m█\u001b[39m█\u001b[39m█\u001b[39m█\u001b[39m█\u001b[32m█\u001b[39m\u001b[39m█\u001b[39m█\u001b[39m█\u001b[39m█\u001b[39m█\u001b[39m█\u001b[39m█\u001b[39m▇\u001b[39m█\u001b[39m▇\u001b[39m▇\u001b[39m▆\u001b[39m▆\u001b[39m▆\u001b[39m▅\u001b[39m▅\u001b[39m▄\u001b[39m▅\u001b[39m▅\u001b[39m▆\u001b[39m▅\u001b[39m▃\u001b[39m▄\u001b[39m▄\u001b[39m▅\u001b[39m▄\u001b[39m▅\u001b[39m▁\u001b[39m▃\u001b[39m▁\u001b[39m▄\u001b[39m▄\u001b[39m▅\u001b[39m▅\u001b[39m▅\u001b[39m▃\u001b[39m▄\u001b[39m▆\u001b[39m▄\u001b[39m▇\u001b[39m▇\u001b[39m▇\u001b[39m█\u001b[39m█\u001b[39m█\u001b[39m█\u001b[39m█\u001b[39m▇\u001b[39m▇\u001b[39m \u001b[39m█\n",
       "  1.09 μs\u001b[90m      \u001b[39m\u001b[90mHistogram: \u001b[39m\u001b[90m\u001b[1mlog(\u001b[22m\u001b[39m\u001b[90mfrequency\u001b[39m\u001b[90m\u001b[1m)\u001b[22m\u001b[39m\u001b[90m by time\u001b[39m      8.08 μs \u001b[0m\u001b[1m<\u001b[22m\n",
       "\n",
       " Memory estimate\u001b[90m: \u001b[39m\u001b[33m7.94 KiB\u001b[39m, allocs estimate\u001b[90m: \u001b[39m\u001b[33m1\u001b[39m."
      ]
     },
     "metadata": {},
     "output_type": "display_data"
    }
   ],
   "source": [
    "@benchmark fill_random(1000)"
   ]
  },
  {
   "cell_type": "code",
   "execution_count": 33,
   "id": "3cea9bef",
   "metadata": {
    "slideshow": {
     "slide_type": "slide"
    }
   },
   "outputs": [
    {
     "data": {
      "text/plain": [
       "fill_random_compartment (generic function with 1 method)"
      ]
     },
     "metadata": {},
     "output_type": "display_data"
    }
   ],
   "source": [
    "# rfill! can be specialized for Float64 or Int!\n",
    "function rfill!(v::Vector{T}) where T\n",
    "    for i in eachindex(v)\n",
    "        v[i] = rand(T)\n",
    "    end\n",
    "end\n",
    "\n",
    "function fill_random_compartment(n)\n",
    "    v = rand(Bool) ? Vector{Float64}(undef, n) : Vector{Int}(undef, n)\n",
    "    rfill!(v)\n",
    "    return v\n",
    "end\n",
    "\n",
    "# @code_warntype rfill!(zeros(10))"
   ]
  },
  {
   "cell_type": "code",
   "execution_count": 34,
   "id": "aa1f06a8",
   "metadata": {
    "slideshow": {
     "slide_type": "slide"
    }
   },
   "outputs": [
    {
     "data": {
      "text/plain": [
       "BenchmarkTools.Trial: 10000 samples with 10 evaluations.\n",
       " Range \u001b[90m(\u001b[39m\u001b[36m\u001b[1mmin\u001b[22m\u001b[39m … \u001b[35mmax\u001b[39m\u001b[90m):  \u001b[39m\u001b[36m\u001b[1m900.000 ns\u001b[22m\u001b[39m … \u001b[35m637.750 μs\u001b[39m  \u001b[90m┊\u001b[39m GC \u001b[90m(\u001b[39mmin … max\u001b[90m): \u001b[39m 0.00% … 99.01%\n",
       " Time  \u001b[90m(\u001b[39m\u001b[34m\u001b[1mmedian\u001b[22m\u001b[39m\u001b[90m):     \u001b[39m\u001b[34m\u001b[1m  1.360 μs               \u001b[22m\u001b[39m\u001b[90m┊\u001b[39m GC \u001b[90m(\u001b[39mmedian\u001b[90m):    \u001b[39m 0.00%\n",
       " Time  \u001b[90m(\u001b[39m\u001b[32m\u001b[1mmean\u001b[22m\u001b[39m ± \u001b[32mσ\u001b[39m\u001b[90m):   \u001b[39m\u001b[32m\u001b[1m  2.110 μs\u001b[22m\u001b[39m ± \u001b[32m 11.560 μs\u001b[39m  \u001b[90m┊\u001b[39m GC \u001b[90m(\u001b[39mmean ± σ\u001b[90m):  \u001b[39m16.93% ±  3.25%\n",
       "\n",
       "  \u001b[39m▅\u001b[39m█\u001b[39m▇\u001b[39m▆\u001b[34m▅\u001b[39m\u001b[39m▅\u001b[39m▅\u001b[39m▅\u001b[39m▄\u001b[39m▄\u001b[32m▃\u001b[39m\u001b[39m▃\u001b[39m▃\u001b[39m▂\u001b[39m▂\u001b[39m▂\u001b[39m▁\u001b[39m▁\u001b[39m▁\u001b[39m \u001b[39m \u001b[39m \u001b[39m \u001b[39m \u001b[39m \u001b[39m \u001b[39m \u001b[39m \u001b[39m \u001b[39m \u001b[39m \u001b[39m \u001b[39m \u001b[39m \u001b[39m \u001b[39m \u001b[39m \u001b[39m \u001b[39m \u001b[39m \u001b[39m \u001b[39m \u001b[39m \u001b[39m \u001b[39m \u001b[39m \u001b[39m \u001b[39m \u001b[39m \u001b[39m \u001b[39m \u001b[39m \u001b[39m \u001b[39m \u001b[39m \u001b[39m \u001b[39m \u001b[39m \u001b[39m \u001b[39m \u001b[39m \u001b[39m \u001b[39m▂\n",
       "  \u001b[39m█\u001b[39m█\u001b[39m█\u001b[39m█\u001b[34m█\u001b[39m\u001b[39m█\u001b[39m█\u001b[39m█\u001b[39m█\u001b[39m█\u001b[32m█\u001b[39m\u001b[39m█\u001b[39m█\u001b[39m█\u001b[39m█\u001b[39m█\u001b[39m█\u001b[39m█\u001b[39m█\u001b[39m█\u001b[39m█\u001b[39m█\u001b[39m▇\u001b[39m▇\u001b[39m▇\u001b[39m▆\u001b[39m▆\u001b[39m▇\u001b[39m▇\u001b[39m▆\u001b[39m▅\u001b[39m▅\u001b[39m▆\u001b[39m▄\u001b[39m▆\u001b[39m▄\u001b[39m▄\u001b[39m▇\u001b[39m▇\u001b[39m▇\u001b[39m▆\u001b[39m▆\u001b[39m▆\u001b[39m▂\u001b[39m▅\u001b[39m▅\u001b[39m▄\u001b[39m▃\u001b[39m▅\u001b[39m▅\u001b[39m▅\u001b[39m▄\u001b[39m▅\u001b[39m▆\u001b[39m▄\u001b[39m▄\u001b[39m▅\u001b[39m▅\u001b[39m▅\u001b[39m▅\u001b[39m▅\u001b[39m \u001b[39m█\n",
       "  900 ns\u001b[90m        \u001b[39m\u001b[90mHistogram: \u001b[39m\u001b[90m\u001b[1mlog(\u001b[22m\u001b[39m\u001b[90mfrequency\u001b[39m\u001b[90m\u001b[1m)\u001b[22m\u001b[39m\u001b[90m by time\u001b[39m       8.38 μs \u001b[0m\u001b[1m<\u001b[22m\n",
       "\n",
       " Memory estimate\u001b[90m: \u001b[39m\u001b[33m7.94 KiB\u001b[39m, allocs estimate\u001b[90m: \u001b[39m\u001b[33m1\u001b[39m."
      ]
     },
     "metadata": {},
     "output_type": "display_data"
    }
   ],
   "source": [
    "@benchmark fill_random_compartment(1000)"
   ]
  },
  {
   "cell_type": "markdown",
   "id": "e3def6f4",
   "metadata": {
    "slideshow": {
     "slide_type": "slide"
    }
   },
   "source": [
    "## Memory allocations\n",
    "\n",
    "Memory allocation can be a costly operation for your machine to do. \n",
    "\n",
    "When you create a new object in memory, Julia has to make or find space for that object in RAM."
   ]
  },
  {
   "cell_type": "markdown",
   "id": "06076d2a",
   "metadata": {
    "slideshow": {
     "slide_type": "slide"
    }
   },
   "source": [
    "## Memory allocations: the stack and the heap\n",
    "\n",
    "There's two broad ways that memory works, commonly referred to as the __stack__ and the __heap__.\n",
    "\n",
    "The __stack__ is for short-term memory. You can think of it like a stack of plates -- when you add to it, you put a new thing on top. When you take things off the stack, you remove them from the top as well (LIFO). The stack is for small stuff, usually.\n",
    "\n",
    "The __heap__ is more like a bookshelf -- you don't \"cover up\" other things, but you may have to read the book titles to find what you're looking for. You can put huge things on the heap.\n",
    "\n"
   ]
  },
  {
   "cell_type": "markdown",
   "id": "fae7848c",
   "metadata": {
    "slideshow": {
     "slide_type": "slide"
    }
   },
   "source": [
    "## Memory allocations: where is my thing?\n",
    "\n",
    "Different objects are treated differently, and the compiler often has a say in whether something is heap or stack.\n",
    "\n",
    "In general, though:\n",
    "\n",
    "- Heap: arrays, dictionaries, mutable structs, etc.\n",
    "- Stack: non-mutable structs, single values, named tuples, static arrays.\n",
    "\n",
    "Again, this is not hard-and-fast! Any type can end up in either the stack or the heap."
   ]
  },
  {
   "cell_type": "markdown",
   "id": "25029e3f",
   "metadata": {
    "slideshow": {
     "slide_type": "slide"
    }
   },
   "source": [
    "## Memory allocations: why does this matter?\n",
    "\n",
    "Heap allocation is slower than is stack allocation, so sometimes it's worth keeping in mind whether something is liable to end up on the heap.\n",
    "\n",
    "To show you how this works, let's use `StaticArrays`, which are fixed-size arrays that the compiler usually stack-allocates."
   ]
  },
  {
   "cell_type": "code",
   "execution_count": 41,
   "id": "4e913388",
   "metadata": {},
   "outputs": [],
   "source": [
    "# import Pkg; Pkg.add(\"StaticArrays\")\n",
    "using StaticArrays, LinearAlgebra "
   ]
  },
  {
   "cell_type": "code",
   "execution_count": 42,
   "id": "a8275534",
   "metadata": {
    "slideshow": {
     "slide_type": "slide"
    }
   },
   "outputs": [
    {
     "data": {
      "text/plain": [
       "array_messabout (generic function with 1 method)"
      ]
     },
     "metadata": {},
     "output_type": "display_data"
    }
   ],
   "source": [
    "\n",
    "function array_messabout(m)\n",
    "    # Calculate product\n",
    "    a = m*m'\n",
    "    \n",
    "    # Invert that bad boy\n",
    "    b = inv(a)\n",
    "    \n",
    "    # Now hit me with the LU factorization\n",
    "    # Why? Who knows! EdUcAtIoN iS gOoD\n",
    "    return lu(b)\n",
    "end"
   ]
  },
  {
   "cell_type": "code",
   "execution_count": 43,
   "id": "00391c63",
   "metadata": {
    "slideshow": {
     "slide_type": "slide"
    }
   },
   "outputs": [
    {
     "name": "stdout",
     "output_type": "stream",
     "text": [
      "  2.867 μs (7 allocations: 8.03 KiB)\n",
      "  1.740 μs (0 allocations: 0 bytes)\n"
     ]
    }
   ],
   "source": [
    "k = 10\n",
    "m = randn(k,k)\n",
    "m_static = SMatrix{k,k}(m)\n",
    "@btime array_messabout($m);\n",
    "@btime array_messabout($m_static);"
   ]
  },
  {
   "cell_type": "markdown",
   "id": "c41b834d",
   "metadata": {
    "slideshow": {
     "slide_type": "slide"
    }
   },
   "source": [
    "The (occasional) performance gains you get from working with stack-allocated, immutable types can sometimes be amazing.\n",
    "\n",
    "This is why I usually recommend people do __not__ use mutable structs! In some cases it's cheaper to stack-allocate a new immutable struct rather than modify a heap-allocated mutable struct."
   ]
  },
  {
   "cell_type": "code",
   "execution_count": 58,
   "id": "f08a2a3f",
   "metadata": {
    "slideshow": {
     "slide_type": "slide"
    }
   },
   "outputs": [],
   "source": [
    "struct Immutable{T}\n",
    "    a::T\n",
    "    b::T\n",
    "    c::Matrix{T}\n",
    "end\n",
    "\n",
    "mutable struct Mutable{T}\n",
    "    a::T\n",
    "    b::T\n",
    "    c::Matrix{T}\n",
    "end"
   ]
  },
  {
   "cell_type": "code",
   "execution_count": 59,
   "id": "43e2debe",
   "metadata": {
    "slideshow": {
     "slide_type": "slide"
    }
   },
   "outputs": [
    {
     "data": {
      "text/plain": [
       "double (generic function with 2 methods)"
      ]
     },
     "execution_count": 59,
     "metadata": {},
     "output_type": "execute_result"
    }
   ],
   "source": [
    "function double(m::Immutable)\n",
    "    return Immutable(\n",
    "        m.a * 2,\n",
    "        m.b * 2,\n",
    "        m.c * 2\n",
    "    )\n",
    "end\n",
    "\n",
    "function double!(m::Mutable)\n",
    "    m.a *= 2\n",
    "    m.b *= 2\n",
    "    m.c *= 2\n",
    "    return m\n",
    "end\n",
    "\n",
    "# Because I am lazy, don't @ me\n",
    "double(m::Mutable) = double!(m)"
   ]
  },
  {
   "cell_type": "code",
   "execution_count": 60,
   "id": "100641ea",
   "metadata": {
    "slideshow": {
     "slide_type": "slide"
    }
   },
   "outputs": [
    {
     "name": "stdout",
     "output_type": "stream",
     "text": [
      "  9.128 ms (2002 allocations: 76.34 MiB)\n",
      "  8.546 ms (2000 allocations: 76.34 MiB)\n"
     ]
    }
   ],
   "source": [
    "function mult_double(val, n::Int) where T\n",
    "    for i in 1:n\n",
    "        val = double(val)\n",
    "    end\n",
    "    return val\n",
    "end\n",
    "\n",
    "imm = Immutable(1.0, 2.0, randn(100,100));\n",
    "mut = Mutable(1.0, 2.0, randn(100,100));\n",
    "\n",
    "@btime mult_double($imm, 1000);\n",
    "@btime mult_double($mut, 1000);"
   ]
  },
  {
   "cell_type": "markdown",
   "id": "029a7469",
   "metadata": {
    "slideshow": {
     "slide_type": "slide"
    }
   },
   "source": [
    "## Column order vs. row order\n",
    "\n",
    "When Julia stores arrays in memory, values in the same column are next to each other. In layman's terms, it's faster to go to the next row within a column rather than to go to the next column within a row."
   ]
  },
  {
   "cell_type": "code",
   "execution_count": 61,
   "id": "befd4fe6",
   "metadata": {
    "slideshow": {
     "slide_type": "slide"
    }
   },
   "outputs": [
    {
     "data": {
      "text/plain": [
       "colsum (generic function with 1 method)"
      ]
     },
     "execution_count": 61,
     "metadata": {},
     "output_type": "execute_result"
    }
   ],
   "source": [
    "function rowsum(M)\n",
    "    s = zero(eltype(M))\n",
    "    for row in 1:size(M,1)\n",
    "        for col in 1:size(M,2)\n",
    "            s += M[row, col]\n",
    "        end\n",
    "    end\n",
    "    return s\n",
    "end\n",
    "\n",
    "function colsum(M)\n",
    "    s = zero(eltype(M))\n",
    "    for col in 1:size(M,2) # The only difference here is that col goes first!\n",
    "        for row in 1:size(M,1)\n",
    "            s += M[row, col]\n",
    "        end\n",
    "    end\n",
    "    return s\n",
    "end"
   ]
  },
  {
   "cell_type": "code",
   "execution_count": 62,
   "id": "a20b8f04",
   "metadata": {
    "slideshow": {
     "slide_type": "slide"
    }
   },
   "outputs": [
    {
     "name": "stdout",
     "output_type": "stream",
     "text": [
      "  1.809 s (0 allocations: 0 bytes)\n",
      "  177.955 ms (0 allocations: 0 bytes)\n"
     ]
    }
   ],
   "source": [
    "M = randn(10_000, 10_000)\n",
    "\n",
    "@btime rowsum($M);\n",
    "@btime colsum($M);"
   ]
  },
  {
   "cell_type": "markdown",
   "id": "330feffa",
   "metadata": {
    "slideshow": {
     "slide_type": "slide"
    }
   },
   "source": [
    "## Column/row order: the takeaway\n",
    "\n",
    "When looping through columns or rows, remember that it's easier to go down a row than it is to go across a column. \n",
    "\n",
    "__Put rows in your inner loop, columns on your outer loop__."
   ]
  },
  {
   "cell_type": "markdown",
   "id": "729431b6",
   "metadata": {
    "slideshow": {
     "slide_type": "slide"
    }
   },
   "source": [
    "## Compiler annotations\n",
    "\n",
    "Sometimes you can give the compiler helpful hints to remove things like bounds checking, or tell the compiler that something can be cheaply parallelized at the CPU level."
   ]
  },
  {
   "cell_type": "markdown",
   "id": "f46a22ce",
   "metadata": {
    "slideshow": {
     "slide_type": "slide"
    }
   },
   "source": [
    "`@inbounds` in front of an expression removes bounds checking. Bounds checking is there to protect you to make sure that you aren't trying to get the 11th item of a 10-element array. \n",
    "\n",
    "For simple loops, Julia can figure out usually that you're within bounds and won't check for you, but sometimes it can help to annotate.\n",
    "\n",
    "It's important sometimes -- only use `@inbounds` when you know for a _fact_ that you are accessing the correct element of an array. If you screw this up, you could get silently nonsensical results."
   ]
  },
  {
   "cell_type": "code",
   "execution_count": 64,
   "id": "c392a315",
   "metadata": {
    "slideshow": {
     "slide_type": "slide"
    }
   },
   "outputs": [
    {
     "data": {
      "text/plain": [
       "sumprod_inbounds (generic function with 1 method)"
      ]
     },
     "execution_count": 64,
     "metadata": {},
     "output_type": "execute_result"
    }
   ],
   "source": [
    "function sumprod_normal(A::AbstractArray, B::AbstractArray)\n",
    "    @assert size(A) == size(B)\n",
    "    r = zero(eltype(A))\n",
    "    for i in eachindex(A)\n",
    "        r += A[i] * B[i]\n",
    "    end\n",
    "    return r\n",
    "end\n",
    "\n",
    "function sumprod_inbounds(A::AbstractArray, B::AbstractArray)\n",
    "    @assert size(A) == size(B)\n",
    "    r = zero(eltype(A))\n",
    "    for i in eachindex(A)\n",
    "        @inbounds r += A[i] * B[i]\n",
    "    end\n",
    "    return r\n",
    "end"
   ]
  },
  {
   "cell_type": "code",
   "execution_count": 457,
   "id": "9512b3cb",
   "metadata": {
    "slideshow": {
     "slide_type": "slide"
    }
   },
   "outputs": [
    {
     "name": "stdout",
     "output_type": "stream",
     "text": [
      "  19.234 μs (1 allocation: 16 bytes)\n",
      "  16.116 μs (1 allocation: 16 bytes)\n"
     ]
    },
    {
     "data": {
      "text/plain": [
       "98.99688965175507"
      ]
     },
     "execution_count": 457,
     "metadata": {},
     "output_type": "execute_result"
    }
   ],
   "source": [
    "xs1 = randn(10_000)\n",
    "xs2 = randn(10_000)\n",
    "@btime sumprod_normal(xs1, xs2)\n",
    "@btime sumprod_inbounds(xs1, xs2);"
   ]
  },
  {
   "cell_type": "markdown",
   "id": "f5e71a2d",
   "metadata": {
    "slideshow": {
     "slide_type": "slide"
    }
   },
   "source": [
    "## `@simd`\n",
    "\n",
    "Single instruction, multiple data is a parallelization paradigm. Essentially, you tell your processor it can do the same thing with lots of different data points, and this _can_ speed up your code.\n",
    "\n",
    "When you use `@simd`, you are telling the compiler that the order of your operations can be done in a more or less random order. You for loop operations cannot depend on one another! No time series SIMD!"
   ]
  },
  {
   "cell_type": "code",
   "execution_count": 469,
   "id": "9f0e683e",
   "metadata": {
    "slideshow": {
     "slide_type": "slide"
    }
   },
   "outputs": [],
   "source": [
    "function sumprod_simd(A::AbstractArray, B::AbstractArray)\n",
    "    @assert size(A) == size(B)\n",
    "    r = zero(eltype(A))\n",
    "    @simd for i in eachindex(A)\n",
    "        r += A[i] * B[i]\n",
    "    end\n",
    "    return r\n",
    "end;\n"
   ]
  },
  {
   "cell_type": "code",
   "execution_count": 470,
   "id": "627bb442",
   "metadata": {
    "slideshow": {
     "slide_type": "slide"
    }
   },
   "outputs": [
    {
     "name": "stdout",
     "output_type": "stream",
     "text": [
      "  15.526 μs (1 allocation: 16 bytes)\n"
     ]
    }
   ],
   "source": [
    "@btime sumprod_simd($xs1, $xs2);"
   ]
  },
  {
   "cell_type": "markdown",
   "id": "cd051fff",
   "metadata": {
    "slideshow": {
     "slide_type": "slide"
    }
   },
   "source": [
    "You can also combine lots of performance annotations, though __do this cautiously!__"
   ]
  },
  {
   "cell_type": "code",
   "execution_count": 472,
   "id": "fe657a40",
   "metadata": {},
   "outputs": [],
   "source": [
    "function sumprod_super(A::AbstractArray, B::AbstractArray)\n",
    "    @assert size(A) == size(B)\n",
    "    r = zero(eltype(A))\n",
    "    @simd for i in eachindex(A)\n",
    "        @inbounds r += A[i] * B[i]\n",
    "    end\n",
    "    return r\n",
    "end;"
   ]
  },
  {
   "cell_type": "code",
   "execution_count": 473,
   "id": "56769d78",
   "metadata": {
    "slideshow": {
     "slide_type": "slide"
    }
   },
   "outputs": [
    {
     "name": "stdout",
     "output_type": "stream",
     "text": [
      "  2.515 μs (1 allocation: 16 bytes)\n"
     ]
    }
   ],
   "source": [
    "@btime sumprod_super($xs1, $xs2);"
   ]
  },
  {
   "cell_type": "markdown",
   "id": "2d40e4b4",
   "metadata": {
    "slideshow": {
     "slide_type": "slide"
    }
   },
   "source": [
    "## Don't do stuff to global variables\n",
    "\n",
    "You should not be using non-constant global variables anyway! As a refresher, `x` below is a global variable, because everything can access it."
   ]
  },
  {
   "cell_type": "code",
   "execution_count": 476,
   "id": "6f589afa",
   "metadata": {},
   "outputs": [
    {
     "name": "stdout",
     "output_type": "stream",
     "text": [
      "  48.117 ns (1 allocation: 80 bytes)\n"
     ]
    }
   ],
   "source": [
    "x = \"I am a bad global variable user\" # Bad person!\n",
    "\n",
    "function do_stuff()\n",
    "    # x here is global, and the compiler \n",
    "    # cannot assert the stability of its type\n",
    "    # in general cases.\n",
    "    return x * \", please be kind to me\"\n",
    "end\n",
    "\n",
    "@btime do_stuff();"
   ]
  },
  {
   "cell_type": "markdown",
   "id": "bd118d41",
   "metadata": {
    "slideshow": {
     "slide_type": "slide"
    }
   },
   "source": [
    "There's two solutions here:\n",
    "\n",
    "1. Annotate your global variable with `const`, which says \"I am not going to change this variable, I promise\".\n",
    "2. Pass the variable in as an argument to the function."
   ]
  },
  {
   "cell_type": "code",
   "execution_count": 477,
   "id": "1bf2d7e9",
   "metadata": {
    "scrolled": true,
    "slideshow": {
     "slide_type": "slide"
    }
   },
   "outputs": [
    {
     "name": "stdout",
     "output_type": "stream",
     "text": [
      "  29.286 ns (1 allocation: 80 bytes)\n"
     ]
    }
   ],
   "source": [
    "const x_constant = \"I am a bad global variable user\"\n",
    "\n",
    "function do_stuff_constant()\n",
    "    # Now x is constant, the compiler can handle it.\n",
    "    return x_constant * \", please be kind to me\"\n",
    "end\n",
    "\n",
    "@btime do_stuff_constant();"
   ]
  },
  {
   "cell_type": "code",
   "execution_count": 479,
   "id": "18d578b1",
   "metadata": {
    "slideshow": {
     "slide_type": "slide"
    }
   },
   "outputs": [
    {
     "name": "stdout",
     "output_type": "stream",
     "text": [
      "  28.767 ns (1 allocation: 80 bytes)\n"
     ]
    }
   ],
   "source": [
    "# You can (and should) also pass it as an argument.\n",
    "function do_stuff_arg(x_arg)\n",
    "    return x_arg * \", please be kind to me\"\n",
    "end\n",
    "\n",
    "@btime do_stuff_arg(\"I am a bad global variable user\");"
   ]
  },
  {
   "cell_type": "markdown",
   "id": "05183e11",
   "metadata": {
    "slideshow": {
     "slide_type": "slide"
    }
   },
   "source": [
    "## In-place operations\n",
    "\n",
    "If you do a ton of little matrix computations, it's often helpful to store results in a single preallocated buffer rather than continuously reallocate.\n",
    "\n",
    "In Julia, a common way of doing this is with what are called __in-place operations__. In-place operations modify their input rather than returning a new object in memory."
   ]
  },
  {
   "cell_type": "markdown",
   "id": "972b3bb1",
   "metadata": {
    "slideshow": {
     "slide_type": "slide"
    }
   },
   "source": [
    "## In-place operations\n",
    "\n",
    "For example, rather than\n",
    "\n",
    "```julia\n",
    "X = A*B\n",
    "```\n",
    "\n",
    "we can do \n",
    "\n",
    "```julia\n",
    "mul!(X, A, B)\n",
    "```\n",
    "\n",
    "which keeps allocations down. \n",
    "\n",
    "Oftentimes this is FREE SPEED, though not always. Benchmark your application to see if it actually helps."
   ]
  },
  {
   "cell_type": "code",
   "execution_count": 489,
   "id": "68c60e08",
   "metadata": {
    "slideshow": {
     "slide_type": "slide"
    }
   },
   "outputs": [
    {
     "name": "stdout",
     "output_type": "stream",
     "text": [
      "  4.279 μs (13 allocations: 4.81 KiB)\n",
      "  3.808 μs (12 allocations: 3.94 KiB)\n"
     ]
    }
   ],
   "source": [
    "function eigtimer()\n",
    "    M = randn(50, 50)\n",
    "    @btime eigvals(M)\n",
    "    @btime eigvals!(M);\n",
    "    return\n",
    "end\n",
    "\n",
    "eigtimer()"
   ]
  },
  {
   "cell_type": "markdown",
   "id": "007f3a2d",
   "metadata": {
    "slideshow": {
     "slide_type": "slide"
    }
   },
   "source": [
    "## Use multiple dispatch to your advantage\n",
    "\n",
    "A common thing people might do in other languages is this:"
   ]
  },
  {
   "cell_type": "code",
   "execution_count": 494,
   "id": "abd8d382",
   "metadata": {},
   "outputs": [
    {
     "name": "stdout",
     "output_type": "stream",
     "text": [
      "  0.041 ns (0 allocations: 0 bytes)\n",
      "  111.885 ns (2 allocations: 176 bytes)\n"
     ]
    },
    {
     "data": {
      "text/plain": [
       "2×2 Matrix{Float64}:\n",
       " 1.0  2.0\n",
       " 2.0  4.0"
      ]
     },
     "execution_count": 494,
     "metadata": {},
     "output_type": "execute_result"
    }
   ],
   "source": [
    "function square(thing)\n",
    "    if typeof(thing) <: Real\n",
    "        return thing ^ 2\n",
    "    elseif typeof(thing) <: Vector && eltype(thing) <: Real\n",
    "        return thing * thing'\n",
    "    end\n",
    "end\n",
    "\n",
    "@btime square(1.0)\n",
    "@btime square([1.0, 2.0])"
   ]
  },
  {
   "cell_type": "markdown",
   "id": "4344d75e",
   "metadata": {
    "slideshow": {
     "slide_type": "slide"
    }
   },
   "source": [
    "The preferred approach is to break the typing into different functions:"
   ]
  },
  {
   "cell_type": "code",
   "execution_count": 495,
   "id": "0bb94a77",
   "metadata": {
    "scrolled": true
   },
   "outputs": [
    {
     "name": "stdout",
     "output_type": "stream",
     "text": [
      "  0.038 ns (0 allocations: 0 bytes)\n",
      "  112.008 ns (2 allocations: 176 bytes)\n"
     ]
    },
    {
     "data": {
      "text/plain": [
       "2×2 Matrix{Float64}:\n",
       " 1.0  2.0\n",
       " 2.0  4.0"
      ]
     },
     "execution_count": 495,
     "metadata": {},
     "output_type": "execute_result"
    }
   ],
   "source": [
    "square(thing::Real) = thing^2\n",
    "square(thing::AbstractVector{<:Real}) = thing * thing'\n",
    "\n",
    "@btime square(1.0)\n",
    "@btime square([1.0, 2.0])"
   ]
  },
  {
   "cell_type": "markdown",
   "id": "1ccbafe7",
   "metadata": {
    "slideshow": {
     "slide_type": "slide"
    }
   },
   "source": [
    "This is not _necessarily_ a speed thing, but it can be. The example above doesn't actually have much in the way of speed improvements, but it is more attractive to write and easier to debug."
   ]
  },
  {
   "cell_type": "markdown",
   "id": "c448468a",
   "metadata": {
    "slideshow": {
     "slide_type": "slide"
    }
   },
   "source": [
    "## Be careful with closures\n",
    "\n",
    "A closure is a function that captures a variable outside the scope of the function. \n",
    "\n",
    "For example, the function below returns a new function that _closes_ over `r`."
   ]
  },
  {
   "cell_type": "code",
   "execution_count": 505,
   "id": "462ae987",
   "metadata": {
    "slideshow": {
     "slide_type": "slide"
    }
   },
   "outputs": [
    {
     "name": "stdout",
     "output_type": "stream",
     "text": [
      "  56.313 ns (1 allocation: 16 bytes)\n"
     ]
    }
   ],
   "source": [
    "function abmult(r::Int)\n",
    "    if r < 0\n",
    "        r = -r\n",
    "    end\n",
    "    f = x -> x * r # We close over r here -- Julia doesn't know that r is a fixed type here!\n",
    "#     f(x) = x*r\n",
    "    return f\n",
    "end;\n",
    "@btime abmult(3)(2);"
   ]
  },
  {
   "cell_type": "code",
   "execution_count": 503,
   "id": "9e6244dc",
   "metadata": {},
   "outputs": [
    {
     "name": "stdout",
     "output_type": "stream",
     "text": [
      "  4.381 ns (0 allocations: 0 bytes)\n"
     ]
    }
   ],
   "source": [
    "function abmult2(r0::Int)\n",
    "    r::Int = r0 # Add a type annotation to a local variable\n",
    "    if r < 0\n",
    "        r = -r\n",
    "    end\n",
    "    f = x -> x * r # Now we're closing over r, a local variable with a specific type\n",
    "    return f\n",
    "end\n",
    "@btime abmult2(3)(2);"
   ]
  },
  {
   "cell_type": "code",
   "execution_count": 506,
   "id": "396effd9",
   "metadata": {
    "slideshow": {
     "slide_type": "slide"
    }
   },
   "outputs": [
    {
     "name": "stdout",
     "output_type": "stream",
     "text": [
      "  0.038 ns (0 allocations: 0 bytes)\n"
     ]
    }
   ],
   "source": [
    "function abmult3(r::Int)\n",
    "    if r < 0\n",
    "        r = -r\n",
    "    end\n",
    "    f = let r = r # Or, we can use a let block to copy the outer r to the closure.\n",
    "        x -> x * r\n",
    "    end\n",
    "    return f\n",
    "end\n",
    "@btime abmult3(3)(2);"
   ]
  },
  {
   "cell_type": "markdown",
   "id": "928211e6",
   "metadata": {
    "slideshow": {
     "slide_type": "slide"
    }
   },
   "source": [
    "Note that the use of the `let` block above may become a part of Julia's compiler, so you potentially won't need to do this in the future."
   ]
  },
  {
   "cell_type": "markdown",
   "id": "c91a91ac",
   "metadata": {
    "slideshow": {
     "slide_type": "slide"
    }
   },
   "source": [
    "## Profiling\n",
    "\n",
    "It's often hard to know how much time we are spending in different places in our program. Is there a slow line somewhere?\n",
    "\n",
    "A common way programmers attempt to debug their code is to use a __profiler__. A profiler (a statistical one, anyway) is a tool that checks where you are in your program lots of times a second.\n",
    "\n",
    "With the results you can look at which lines appear the most in your profile, and infer from that which are the most costly to compute."
   ]
  },
  {
   "cell_type": "code",
   "execution_count": 67,
   "id": "f9419f6a",
   "metadata": {
    "slideshow": {
     "slide_type": "slide"
    }
   },
   "outputs": [
    {
     "data": {
      "text/plain": [
       "weird_inverse (generic function with 2 methods)"
      ]
     },
     "execution_count": 67,
     "metadata": {},
     "output_type": "execute_result"
    }
   ],
   "source": [
    "# Import Profile\n",
    "using Profile, LinearAlgebra\n",
    "\n",
    "# Write a function to profile\n",
    "function weird_inverse(A, n=10)\n",
    "    result = deepcopy(A)\n",
    "    eigen_storage = zeros(Union{ComplexF64}, n, size(A, 1))\n",
    "    \n",
    "    # Invert the matrix, double it, and re-invert it.\n",
    "    # Add the result to A\n",
    "    for i in 1:n\n",
    "        result_inv = 2 * inv(result)\n",
    "        result = result + inv(result_inv)\n",
    "        eigen_storage[i,:] = eigvals!(result)\n",
    "    end\n",
    "    \n",
    "    return result\n",
    "end"
   ]
  },
  {
   "cell_type": "code",
   "execution_count": 68,
   "id": "d0f6a546",
   "metadata": {
    "slideshow": {
     "slide_type": "slide"
    }
   },
   "outputs": [
    {
     "name": "stdout",
     "output_type": "stream",
     "text": [
      "Overhead ╎ [+additional indent] Count File:Line; Function\n",
      "=========================================================\n",
      "   ╎53  @Base/task.jl:423; (::IJulia.var\"#15#18\")()\n",
      "   ╎ 53  @IJulia/src/eventloop.jl:8; eventloop(socket::ZMQ.Socket)\n",
      "   ╎  53  @Base/essentials.jl:714; invokelatest\n",
      "   ╎   53  @Base/essentials.jl:716; #invokelatest#2\n",
      "   ╎    53  .../execute_request.jl:67; execute_request(socket::ZMQ.So...\n",
      "   ╎     53  .../SoftGlobalScope.jl:65; softscope_include_string(m::Mo...\n",
      "   ╎    ╎ 53  @Base/loading.jl:1196; include_string(mapexpr::type...\n",
      " 19╎    ╎  53  @Base/boot.jl:373; eval\n",
      "  1╎    ╎   34  In[67]:6; weird_inverse(A::Matrix{Floa...\n",
      "   ╎    ╎    6   In[67]:12; weird_inverse(A::Matrix{Flo...\n",
      "   ╎    ╎     5   ...bra/src/dense.jl:876; inv(A::Matrix{Float64})\n",
      "   ╎    ╎    ╎ 3   ...lgebra/src/lu.jl:278; lu\n",
      "   ╎    ╎    ╎  3   ...gebra/src/lu.jl:278; lu\n",
      "   ╎    ╎    ╎   3   ...gebra/src/lu.jl:279; #lu#153\n",
      "   ╎    ╎    ╎    3   ...inearAlgebra.jl:358; copy_oftype\n",
      "  3╎    ╎    ╎     3   @Base/array.jl:369; copy\n",
      "   ╎    ╎    5   In[67]:13; weird_inverse(A::Matrix{Flo...\n",
      "   ╎    ╎     3   ...bra/src/dense.jl:876; inv(A::Matrix{Float64})\n",
      "  1╎    ╎    21  In[67]:14; weird_inverse(A::Matrix{Flo...\n",
      "   ╎    ╎     17  ...bra/src/eigen.jl:292; eigvals!\n",
      "   ╎    ╎    ╎ 15  ...bra/src/eigen.jl:293; eigvals!(A::Matrix{Float6...\n",
      " 12╎    ╎    ╎  12  ...a/src/lapack.jl:2100; geevx!(balanc::Char, job...\n",
      "Total snapshots: 181\n"
     ]
    }
   ],
   "source": [
    "# Sample data\n",
    "A = randn(10,10) \n",
    "\n",
    "Profile.clear()           # Clear the previous Profile information, if it exists.\n",
    "Profile.init(delay=1e-8)\n",
    "weird_inverse(A)          # Run it once so you don't observe a bunch of compile information in your sample.\n",
    "@profile weird_inverse(A) # Profile it with @profile\n",
    "Profile.print(mincount=3) # Print out the result, get rid of the observations we see only 1,2 times."
   ]
  },
  {
   "cell_type": "code",
   "execution_count": 69,
   "id": "8ec49f93",
   "metadata": {
    "slideshow": {
     "slide_type": "slide"
    }
   },
   "outputs": [
    {
     "name": "stderr",
     "output_type": "stream",
     "text": [
      "Gtk-Message: 10:57:57.592: Failed to load module \"colorreload-gtk-module\"\n",
      "Gtk-Message: 10:57:57.592: Failed to load module \"window-decorations-gtk-module\"\n"
     ]
    },
    {
     "data": {
      "text/plain": [
       "Gtk.GtkWindowLeaf(name=\"\", parent, width-request=-1, height-request=-1, visible=TRUE, sensitive=TRUE, app-paintable=FALSE, can-focus=FALSE, has-focus=FALSE, is-focus=FALSE, focus-on-click=TRUE, can-default=FALSE, has-default=FALSE, receives-default=FALSE, composite-child=FALSE, style, events=0, no-show-all=FALSE, has-tooltip=FALSE, tooltip-markup=NULL, tooltip-text=NULL, window, opacity=1.000000, double-buffered, halign=GTK_ALIGN_FILL, valign=GTK_ALIGN_FILL, margin-left, margin-right, margin-start=0, margin-end=0, margin-top=0, margin-bottom=0, margin=0, hexpand=FALSE, vexpand=FALSE, hexpand-set=FALSE, vexpand-set=FALSE, expand=FALSE, scale-factor=1, border-width=0, resize-mode, child, type=GTK_WINDOW_TOPLEVEL, title=\"Profile\", role=NULL, resizable=TRUE, modal=FALSE, window-position=GTK_WIN_POS_NONE, default-width=800, default-height=600, destroy-with-parent=FALSE, hide-titlebar-when-maximized=FALSE, icon, icon-name=NULL, screen, type-hint=GDK_WINDOW_TYPE_HINT_NORMAL, skip-taskbar-hint=FALSE, skip-pager-hint=FALSE, urgency-hint=FALSE, accept-focus=TRUE, focus-on-map=TRUE, decorated=TRUE, deletable=TRUE, gravity=GDK_GRAVITY_NORTH_WEST, transient-for, attached-to, has-resize-grip, resize-grip-visible, application, is-active=FALSE, has-toplevel-focus=FALSE, startup-id, mnemonics-visible=FALSE, focus-visible=FALSE, is-maximized=FALSE)"
      ]
     },
     "execution_count": 69,
     "metadata": {},
     "output_type": "execute_result"
    }
   ],
   "source": [
    "# We can visualize this with ProfileViews\n",
    "using ProfileView\n",
    "ProfileView.view()"
   ]
  },
  {
   "cell_type": "markdown",
   "id": "1d8244ed",
   "metadata": {
    "slideshow": {
     "slide_type": "slide"
    }
   },
   "source": [
    "# Fin!\n",
    "\n",
    "Thanks for hanging out, everybody."
   ]
  }
 ],
 "metadata": {
  "celltoolbar": "Slideshow",
  "kernelspec": {
   "display_name": "Julia 1.10.2",
   "language": "julia",
   "name": "julia-1.10"
  },
  "language_info": {
   "file_extension": ".jl",
   "mimetype": "application/julia",
   "name": "julia",
   "version": "1.10.2"
  }
 },
 "nbformat": 4,
 "nbformat_minor": 5
}
